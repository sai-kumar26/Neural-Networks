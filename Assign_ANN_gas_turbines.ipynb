{
 "cells": [
  {
   "cell_type": "code",
   "execution_count": 5,
   "id": "770df09d",
   "metadata": {},
   "outputs": [],
   "source": [
    "import pandas as pd\n",
    "import numpy as np \n",
    "from keras.layers import Dense\n",
    "from keras.models import Sequential"
   ]
  },
  {
   "cell_type": "code",
   "execution_count": 6,
   "id": "5368c976",
   "metadata": {},
   "outputs": [],
   "source": [
    "gas = pd.read_csv(\"G:/data sceince/Assignments/Neural Networks/gas_turbines.csv\")"
   ]
  },
  {
   "cell_type": "code",
   "execution_count": 7,
   "id": "680da522",
   "metadata": {},
   "outputs": [
    {
     "data": {
      "text/html": [
       "<div>\n",
       "<style scoped>\n",
       "    .dataframe tbody tr th:only-of-type {\n",
       "        vertical-align: middle;\n",
       "    }\n",
       "\n",
       "    .dataframe tbody tr th {\n",
       "        vertical-align: top;\n",
       "    }\n",
       "\n",
       "    .dataframe thead th {\n",
       "        text-align: right;\n",
       "    }\n",
       "</style>\n",
       "<table border=\"1\" class=\"dataframe\">\n",
       "  <thead>\n",
       "    <tr style=\"text-align: right;\">\n",
       "      <th></th>\n",
       "      <th>AT</th>\n",
       "      <th>AP</th>\n",
       "      <th>AH</th>\n",
       "      <th>AFDP</th>\n",
       "      <th>GTEP</th>\n",
       "      <th>TIT</th>\n",
       "      <th>TAT</th>\n",
       "      <th>TEY</th>\n",
       "      <th>CDP</th>\n",
       "      <th>CO</th>\n",
       "      <th>NOX</th>\n",
       "    </tr>\n",
       "  </thead>\n",
       "  <tbody>\n",
       "    <tr>\n",
       "      <th>0</th>\n",
       "      <td>6.8594</td>\n",
       "      <td>1007.9</td>\n",
       "      <td>96.799</td>\n",
       "      <td>3.5000</td>\n",
       "      <td>19.663</td>\n",
       "      <td>1059.2</td>\n",
       "      <td>550.00</td>\n",
       "      <td>114.70</td>\n",
       "      <td>10.605</td>\n",
       "      <td>3.1547</td>\n",
       "      <td>82.722</td>\n",
       "    </tr>\n",
       "    <tr>\n",
       "      <th>1</th>\n",
       "      <td>6.7850</td>\n",
       "      <td>1008.4</td>\n",
       "      <td>97.118</td>\n",
       "      <td>3.4998</td>\n",
       "      <td>19.728</td>\n",
       "      <td>1059.3</td>\n",
       "      <td>550.00</td>\n",
       "      <td>114.72</td>\n",
       "      <td>10.598</td>\n",
       "      <td>3.2363</td>\n",
       "      <td>82.776</td>\n",
       "    </tr>\n",
       "    <tr>\n",
       "      <th>2</th>\n",
       "      <td>6.8977</td>\n",
       "      <td>1008.8</td>\n",
       "      <td>95.939</td>\n",
       "      <td>3.4824</td>\n",
       "      <td>19.779</td>\n",
       "      <td>1059.4</td>\n",
       "      <td>549.87</td>\n",
       "      <td>114.71</td>\n",
       "      <td>10.601</td>\n",
       "      <td>3.2012</td>\n",
       "      <td>82.468</td>\n",
       "    </tr>\n",
       "    <tr>\n",
       "      <th>3</th>\n",
       "      <td>7.0569</td>\n",
       "      <td>1009.2</td>\n",
       "      <td>95.249</td>\n",
       "      <td>3.4805</td>\n",
       "      <td>19.792</td>\n",
       "      <td>1059.6</td>\n",
       "      <td>549.99</td>\n",
       "      <td>114.72</td>\n",
       "      <td>10.606</td>\n",
       "      <td>3.1923</td>\n",
       "      <td>82.670</td>\n",
       "    </tr>\n",
       "    <tr>\n",
       "      <th>4</th>\n",
       "      <td>7.3978</td>\n",
       "      <td>1009.7</td>\n",
       "      <td>95.150</td>\n",
       "      <td>3.4976</td>\n",
       "      <td>19.765</td>\n",
       "      <td>1059.7</td>\n",
       "      <td>549.98</td>\n",
       "      <td>114.72</td>\n",
       "      <td>10.612</td>\n",
       "      <td>3.2484</td>\n",
       "      <td>82.311</td>\n",
       "    </tr>\n",
       "  </tbody>\n",
       "</table>\n",
       "</div>"
      ],
      "text/plain": [
       "       AT      AP      AH    AFDP    GTEP     TIT     TAT     TEY     CDP  \\\n",
       "0  6.8594  1007.9  96.799  3.5000  19.663  1059.2  550.00  114.70  10.605   \n",
       "1  6.7850  1008.4  97.118  3.4998  19.728  1059.3  550.00  114.72  10.598   \n",
       "2  6.8977  1008.8  95.939  3.4824  19.779  1059.4  549.87  114.71  10.601   \n",
       "3  7.0569  1009.2  95.249  3.4805  19.792  1059.6  549.99  114.72  10.606   \n",
       "4  7.3978  1009.7  95.150  3.4976  19.765  1059.7  549.98  114.72  10.612   \n",
       "\n",
       "       CO     NOX  \n",
       "0  3.1547  82.722  \n",
       "1  3.2363  82.776  \n",
       "2  3.2012  82.468  \n",
       "3  3.1923  82.670  \n",
       "4  3.2484  82.311  "
      ]
     },
     "execution_count": 7,
     "metadata": {},
     "output_type": "execute_result"
    }
   ],
   "source": [
    "gas.head()"
   ]
  },
  {
   "cell_type": "code",
   "execution_count": 8,
   "id": "288e2139",
   "metadata": {},
   "outputs": [
    {
     "data": {
      "text/plain": [
       "(15039, 11)"
      ]
     },
     "execution_count": 8,
     "metadata": {},
     "output_type": "execute_result"
    }
   ],
   "source": [
    "gas.shape"
   ]
  },
  {
   "cell_type": "code",
   "execution_count": 9,
   "id": "02f04497",
   "metadata": {},
   "outputs": [
    {
     "name": "stdout",
     "output_type": "stream",
     "text": [
      "<class 'pandas.core.frame.DataFrame'>\n",
      "RangeIndex: 15039 entries, 0 to 15038\n",
      "Data columns (total 11 columns):\n",
      " #   Column  Non-Null Count  Dtype  \n",
      "---  ------  --------------  -----  \n",
      " 0   AT      15039 non-null  float64\n",
      " 1   AP      15039 non-null  float64\n",
      " 2   AH      15039 non-null  float64\n",
      " 3   AFDP    15039 non-null  float64\n",
      " 4   GTEP    15039 non-null  float64\n",
      " 5   TIT     15039 non-null  float64\n",
      " 6   TAT     15039 non-null  float64\n",
      " 7   TEY     15039 non-null  float64\n",
      " 8   CDP     15039 non-null  float64\n",
      " 9   CO      15039 non-null  float64\n",
      " 10  NOX     15039 non-null  float64\n",
      "dtypes: float64(11)\n",
      "memory usage: 1.3 MB\n"
     ]
    }
   ],
   "source": [
    "gas.info()"
   ]
  },
  {
   "cell_type": "code",
   "execution_count": 10,
   "id": "4db0ca05",
   "metadata": {},
   "outputs": [
    {
     "data": {
      "text/html": [
       "<div>\n",
       "<style scoped>\n",
       "    .dataframe tbody tr th:only-of-type {\n",
       "        vertical-align: middle;\n",
       "    }\n",
       "\n",
       "    .dataframe tbody tr th {\n",
       "        vertical-align: top;\n",
       "    }\n",
       "\n",
       "    .dataframe thead th {\n",
       "        text-align: right;\n",
       "    }\n",
       "</style>\n",
       "<table border=\"1\" class=\"dataframe\">\n",
       "  <thead>\n",
       "    <tr style=\"text-align: right;\">\n",
       "      <th></th>\n",
       "      <th>AT</th>\n",
       "      <th>AP</th>\n",
       "      <th>AH</th>\n",
       "      <th>AFDP</th>\n",
       "      <th>GTEP</th>\n",
       "      <th>TIT</th>\n",
       "      <th>TAT</th>\n",
       "      <th>TEY</th>\n",
       "      <th>CDP</th>\n",
       "      <th>CO</th>\n",
       "      <th>NOX</th>\n",
       "    </tr>\n",
       "  </thead>\n",
       "  <tbody>\n",
       "    <tr>\n",
       "      <th>AT</th>\n",
       "      <td>1.000000</td>\n",
       "      <td>-0.412953</td>\n",
       "      <td>-0.549432</td>\n",
       "      <td>-0.099333</td>\n",
       "      <td>-0.049103</td>\n",
       "      <td>0.093067</td>\n",
       "      <td>0.338569</td>\n",
       "      <td>-0.207495</td>\n",
       "      <td>-0.100705</td>\n",
       "      <td>-0.088588</td>\n",
       "      <td>-0.600006</td>\n",
       "    </tr>\n",
       "    <tr>\n",
       "      <th>AP</th>\n",
       "      <td>-0.412953</td>\n",
       "      <td>1.000000</td>\n",
       "      <td>0.042573</td>\n",
       "      <td>0.040318</td>\n",
       "      <td>0.078575</td>\n",
       "      <td>0.029650</td>\n",
       "      <td>-0.223479</td>\n",
       "      <td>0.146939</td>\n",
       "      <td>0.131198</td>\n",
       "      <td>0.041614</td>\n",
       "      <td>0.256744</td>\n",
       "    </tr>\n",
       "    <tr>\n",
       "      <th>AH</th>\n",
       "      <td>-0.549432</td>\n",
       "      <td>0.042573</td>\n",
       "      <td>1.000000</td>\n",
       "      <td>-0.119249</td>\n",
       "      <td>-0.202784</td>\n",
       "      <td>-0.247781</td>\n",
       "      <td>0.010859</td>\n",
       "      <td>-0.110272</td>\n",
       "      <td>-0.182010</td>\n",
       "      <td>0.165505</td>\n",
       "      <td>0.143061</td>\n",
       "    </tr>\n",
       "    <tr>\n",
       "      <th>AFDP</th>\n",
       "      <td>-0.099333</td>\n",
       "      <td>0.040318</td>\n",
       "      <td>-0.119249</td>\n",
       "      <td>1.000000</td>\n",
       "      <td>0.744251</td>\n",
       "      <td>0.627254</td>\n",
       "      <td>-0.571541</td>\n",
       "      <td>0.717995</td>\n",
       "      <td>0.727152</td>\n",
       "      <td>-0.334207</td>\n",
       "      <td>-0.037299</td>\n",
       "    </tr>\n",
       "    <tr>\n",
       "      <th>GTEP</th>\n",
       "      <td>-0.049103</td>\n",
       "      <td>0.078575</td>\n",
       "      <td>-0.202784</td>\n",
       "      <td>0.744251</td>\n",
       "      <td>1.000000</td>\n",
       "      <td>0.874526</td>\n",
       "      <td>-0.756884</td>\n",
       "      <td>0.977042</td>\n",
       "      <td>0.993784</td>\n",
       "      <td>-0.508259</td>\n",
       "      <td>-0.208496</td>\n",
       "    </tr>\n",
       "    <tr>\n",
       "      <th>TIT</th>\n",
       "      <td>0.093067</td>\n",
       "      <td>0.029650</td>\n",
       "      <td>-0.247781</td>\n",
       "      <td>0.627254</td>\n",
       "      <td>0.874526</td>\n",
       "      <td>1.000000</td>\n",
       "      <td>-0.357320</td>\n",
       "      <td>0.891587</td>\n",
       "      <td>0.887238</td>\n",
       "      <td>-0.688272</td>\n",
       "      <td>-0.231636</td>\n",
       "    </tr>\n",
       "    <tr>\n",
       "      <th>TAT</th>\n",
       "      <td>0.338569</td>\n",
       "      <td>-0.223479</td>\n",
       "      <td>0.010859</td>\n",
       "      <td>-0.571541</td>\n",
       "      <td>-0.756884</td>\n",
       "      <td>-0.357320</td>\n",
       "      <td>1.000000</td>\n",
       "      <td>-0.720356</td>\n",
       "      <td>-0.744740</td>\n",
       "      <td>0.063404</td>\n",
       "      <td>0.009888</td>\n",
       "    </tr>\n",
       "    <tr>\n",
       "      <th>TEY</th>\n",
       "      <td>-0.207495</td>\n",
       "      <td>0.146939</td>\n",
       "      <td>-0.110272</td>\n",
       "      <td>0.717995</td>\n",
       "      <td>0.977042</td>\n",
       "      <td>0.891587</td>\n",
       "      <td>-0.720356</td>\n",
       "      <td>1.000000</td>\n",
       "      <td>0.988473</td>\n",
       "      <td>-0.541751</td>\n",
       "      <td>-0.102631</td>\n",
       "    </tr>\n",
       "    <tr>\n",
       "      <th>CDP</th>\n",
       "      <td>-0.100705</td>\n",
       "      <td>0.131198</td>\n",
       "      <td>-0.182010</td>\n",
       "      <td>0.727152</td>\n",
       "      <td>0.993784</td>\n",
       "      <td>0.887238</td>\n",
       "      <td>-0.744740</td>\n",
       "      <td>0.988473</td>\n",
       "      <td>1.000000</td>\n",
       "      <td>-0.520783</td>\n",
       "      <td>-0.169103</td>\n",
       "    </tr>\n",
       "    <tr>\n",
       "      <th>CO</th>\n",
       "      <td>-0.088588</td>\n",
       "      <td>0.041614</td>\n",
       "      <td>0.165505</td>\n",
       "      <td>-0.334207</td>\n",
       "      <td>-0.508259</td>\n",
       "      <td>-0.688272</td>\n",
       "      <td>0.063404</td>\n",
       "      <td>-0.541751</td>\n",
       "      <td>-0.520783</td>\n",
       "      <td>1.000000</td>\n",
       "      <td>0.316743</td>\n",
       "    </tr>\n",
       "    <tr>\n",
       "      <th>NOX</th>\n",
       "      <td>-0.600006</td>\n",
       "      <td>0.256744</td>\n",
       "      <td>0.143061</td>\n",
       "      <td>-0.037299</td>\n",
       "      <td>-0.208496</td>\n",
       "      <td>-0.231636</td>\n",
       "      <td>0.009888</td>\n",
       "      <td>-0.102631</td>\n",
       "      <td>-0.169103</td>\n",
       "      <td>0.316743</td>\n",
       "      <td>1.000000</td>\n",
       "    </tr>\n",
       "  </tbody>\n",
       "</table>\n",
       "</div>"
      ],
      "text/plain": [
       "            AT        AP        AH      AFDP      GTEP       TIT       TAT  \\\n",
       "AT    1.000000 -0.412953 -0.549432 -0.099333 -0.049103  0.093067  0.338569   \n",
       "AP   -0.412953  1.000000  0.042573  0.040318  0.078575  0.029650 -0.223479   \n",
       "AH   -0.549432  0.042573  1.000000 -0.119249 -0.202784 -0.247781  0.010859   \n",
       "AFDP -0.099333  0.040318 -0.119249  1.000000  0.744251  0.627254 -0.571541   \n",
       "GTEP -0.049103  0.078575 -0.202784  0.744251  1.000000  0.874526 -0.756884   \n",
       "TIT   0.093067  0.029650 -0.247781  0.627254  0.874526  1.000000 -0.357320   \n",
       "TAT   0.338569 -0.223479  0.010859 -0.571541 -0.756884 -0.357320  1.000000   \n",
       "TEY  -0.207495  0.146939 -0.110272  0.717995  0.977042  0.891587 -0.720356   \n",
       "CDP  -0.100705  0.131198 -0.182010  0.727152  0.993784  0.887238 -0.744740   \n",
       "CO   -0.088588  0.041614  0.165505 -0.334207 -0.508259 -0.688272  0.063404   \n",
       "NOX  -0.600006  0.256744  0.143061 -0.037299 -0.208496 -0.231636  0.009888   \n",
       "\n",
       "           TEY       CDP        CO       NOX  \n",
       "AT   -0.207495 -0.100705 -0.088588 -0.600006  \n",
       "AP    0.146939  0.131198  0.041614  0.256744  \n",
       "AH   -0.110272 -0.182010  0.165505  0.143061  \n",
       "AFDP  0.717995  0.727152 -0.334207 -0.037299  \n",
       "GTEP  0.977042  0.993784 -0.508259 -0.208496  \n",
       "TIT   0.891587  0.887238 -0.688272 -0.231636  \n",
       "TAT  -0.720356 -0.744740  0.063404  0.009888  \n",
       "TEY   1.000000  0.988473 -0.541751 -0.102631  \n",
       "CDP   0.988473  1.000000 -0.520783 -0.169103  \n",
       "CO   -0.541751 -0.520783  1.000000  0.316743  \n",
       "NOX  -0.102631 -0.169103  0.316743  1.000000  "
      ]
     },
     "execution_count": 10,
     "metadata": {},
     "output_type": "execute_result"
    }
   ],
   "source": [
    "gas.corr()"
   ]
  },
  {
   "cell_type": "code",
   "execution_count": 11,
   "id": "42ad6660",
   "metadata": {},
   "outputs": [],
   "source": [
    "# standardizing the data\n",
    "\n",
    "from sklearn.preprocessing import StandardScaler"
   ]
  },
  {
   "cell_type": "code",
   "execution_count": 41,
   "id": "fb3050b9",
   "metadata": {},
   "outputs": [],
   "source": [
    "x = gas.drop(['TEY'],axis = 1)\n",
    "y = gas['TEY']"
   ]
  },
  {
   "cell_type": "code",
   "execution_count": 13,
   "id": "f35b16c1",
   "metadata": {},
   "outputs": [
    {
     "data": {
      "text/html": [
       "<div>\n",
       "<style scoped>\n",
       "    .dataframe tbody tr th:only-of-type {\n",
       "        vertical-align: middle;\n",
       "    }\n",
       "\n",
       "    .dataframe tbody tr th {\n",
       "        vertical-align: top;\n",
       "    }\n",
       "\n",
       "    .dataframe thead th {\n",
       "        text-align: right;\n",
       "    }\n",
       "</style>\n",
       "<table border=\"1\" class=\"dataframe\">\n",
       "  <thead>\n",
       "    <tr style=\"text-align: right;\">\n",
       "      <th></th>\n",
       "      <th>AT</th>\n",
       "      <th>AP</th>\n",
       "      <th>AH</th>\n",
       "      <th>AFDP</th>\n",
       "      <th>GTEP</th>\n",
       "      <th>TIT</th>\n",
       "      <th>TAT</th>\n",
       "      <th>CDP</th>\n",
       "      <th>CO</th>\n",
       "      <th>NOX</th>\n",
       "    </tr>\n",
       "  </thead>\n",
       "  <tbody>\n",
       "    <tr>\n",
       "      <th>0</th>\n",
       "      <td>6.8594</td>\n",
       "      <td>1007.9</td>\n",
       "      <td>96.799</td>\n",
       "      <td>3.5000</td>\n",
       "      <td>19.663</td>\n",
       "      <td>1059.2</td>\n",
       "      <td>550.00</td>\n",
       "      <td>10.605</td>\n",
       "      <td>3.1547</td>\n",
       "      <td>82.722</td>\n",
       "    </tr>\n",
       "    <tr>\n",
       "      <th>1</th>\n",
       "      <td>6.7850</td>\n",
       "      <td>1008.4</td>\n",
       "      <td>97.118</td>\n",
       "      <td>3.4998</td>\n",
       "      <td>19.728</td>\n",
       "      <td>1059.3</td>\n",
       "      <td>550.00</td>\n",
       "      <td>10.598</td>\n",
       "      <td>3.2363</td>\n",
       "      <td>82.776</td>\n",
       "    </tr>\n",
       "    <tr>\n",
       "      <th>2</th>\n",
       "      <td>6.8977</td>\n",
       "      <td>1008.8</td>\n",
       "      <td>95.939</td>\n",
       "      <td>3.4824</td>\n",
       "      <td>19.779</td>\n",
       "      <td>1059.4</td>\n",
       "      <td>549.87</td>\n",
       "      <td>10.601</td>\n",
       "      <td>3.2012</td>\n",
       "      <td>82.468</td>\n",
       "    </tr>\n",
       "    <tr>\n",
       "      <th>3</th>\n",
       "      <td>7.0569</td>\n",
       "      <td>1009.2</td>\n",
       "      <td>95.249</td>\n",
       "      <td>3.4805</td>\n",
       "      <td>19.792</td>\n",
       "      <td>1059.6</td>\n",
       "      <td>549.99</td>\n",
       "      <td>10.606</td>\n",
       "      <td>3.1923</td>\n",
       "      <td>82.670</td>\n",
       "    </tr>\n",
       "    <tr>\n",
       "      <th>4</th>\n",
       "      <td>7.3978</td>\n",
       "      <td>1009.7</td>\n",
       "      <td>95.150</td>\n",
       "      <td>3.4976</td>\n",
       "      <td>19.765</td>\n",
       "      <td>1059.7</td>\n",
       "      <td>549.98</td>\n",
       "      <td>10.612</td>\n",
       "      <td>3.2484</td>\n",
       "      <td>82.311</td>\n",
       "    </tr>\n",
       "  </tbody>\n",
       "</table>\n",
       "</div>"
      ],
      "text/plain": [
       "       AT      AP      AH    AFDP    GTEP     TIT     TAT     CDP      CO  \\\n",
       "0  6.8594  1007.9  96.799  3.5000  19.663  1059.2  550.00  10.605  3.1547   \n",
       "1  6.7850  1008.4  97.118  3.4998  19.728  1059.3  550.00  10.598  3.2363   \n",
       "2  6.8977  1008.8  95.939  3.4824  19.779  1059.4  549.87  10.601  3.2012   \n",
       "3  7.0569  1009.2  95.249  3.4805  19.792  1059.6  549.99  10.606  3.1923   \n",
       "4  7.3978  1009.7  95.150  3.4976  19.765  1059.7  549.98  10.612  3.2484   \n",
       "\n",
       "      NOX  \n",
       "0  82.722  \n",
       "1  82.776  \n",
       "2  82.468  \n",
       "3  82.670  \n",
       "4  82.311  "
      ]
     },
     "execution_count": 13,
     "metadata": {},
     "output_type": "execute_result"
    }
   ],
   "source": [
    "x.head()"
   ]
  },
  {
   "cell_type": "code",
   "execution_count": 14,
   "id": "28305841",
   "metadata": {},
   "outputs": [
    {
     "data": {
      "text/plain": [
       "0    114.70\n",
       "1    114.72\n",
       "2    114.71\n",
       "3    114.72\n",
       "4    114.72\n",
       "Name: TEY, dtype: float64"
      ]
     },
     "execution_count": 14,
     "metadata": {},
     "output_type": "execute_result"
    }
   ],
   "source": [
    "y.head()"
   ]
  },
  {
   "cell_type": "code",
   "execution_count": 15,
   "id": "bbde5fdf",
   "metadata": {},
   "outputs": [],
   "source": [
    "std = StandardScaler()\n",
    "x_std = std.fit_transform(x)"
   ]
  },
  {
   "cell_type": "code",
   "execution_count": 16,
   "id": "977540ea",
   "metadata": {},
   "outputs": [
    {
     "data": {
      "text/plain": [
       "array([[-1.4397781 , -0.82664395,  1.28143632, ..., -1.35733078,\n",
       "         0.53201195,  1.3878449 ],\n",
       "       [-1.44960109, -0.74864748,  1.30456402, ..., -1.36367619,\n",
       "         0.56873344,  1.39300237],\n",
       "       [-1.43472138, -0.68625031,  1.21908576, ..., -1.36095673,\n",
       "         0.5529378 ,  1.36358566],\n",
       "       ...,\n",
       "       [-1.38626659, -1.07623263,  1.47697056, ..., -1.46792219,\n",
       "         2.69592467,  2.17006209],\n",
       "       [-1.42042259, -0.99823616,  1.44159024, ..., -1.42259784,\n",
       "         1.9246834 ,  2.391165  ],\n",
       "       [-1.43073409, -0.93583899,  1.33465179, ..., -1.37727349,\n",
       "         1.35415028,  2.32153907]])"
      ]
     },
     "execution_count": 16,
     "metadata": {},
     "output_type": "execute_result"
    }
   ],
   "source": [
    "x_std"
   ]
  },
  {
   "cell_type": "code",
   "execution_count": 17,
   "id": "7cc47352",
   "metadata": {},
   "outputs": [
    {
     "data": {
      "text/html": [
       "<div>\n",
       "<style scoped>\n",
       "    .dataframe tbody tr th:only-of-type {\n",
       "        vertical-align: middle;\n",
       "    }\n",
       "\n",
       "    .dataframe tbody tr th {\n",
       "        vertical-align: top;\n",
       "    }\n",
       "\n",
       "    .dataframe thead th {\n",
       "        text-align: right;\n",
       "    }\n",
       "</style>\n",
       "<table border=\"1\" class=\"dataframe\">\n",
       "  <thead>\n",
       "    <tr style=\"text-align: right;\">\n",
       "      <th></th>\n",
       "      <th>AT</th>\n",
       "      <th>AP</th>\n",
       "      <th>AH</th>\n",
       "      <th>AFDP</th>\n",
       "      <th>GTEP</th>\n",
       "      <th>TIT</th>\n",
       "      <th>TAT</th>\n",
       "      <th>CDP</th>\n",
       "      <th>CO</th>\n",
       "      <th>NOX</th>\n",
       "    </tr>\n",
       "  </thead>\n",
       "  <tbody>\n",
       "    <tr>\n",
       "      <th>count</th>\n",
       "      <td>15039.000000</td>\n",
       "      <td>15039.00000</td>\n",
       "      <td>15039.000000</td>\n",
       "      <td>15039.000000</td>\n",
       "      <td>15039.000000</td>\n",
       "      <td>15039.000000</td>\n",
       "      <td>15039.000000</td>\n",
       "      <td>15039.000000</td>\n",
       "      <td>15039.000000</td>\n",
       "      <td>15039.000000</td>\n",
       "    </tr>\n",
       "    <tr>\n",
       "      <th>mean</th>\n",
       "      <td>17.764381</td>\n",
       "      <td>1013.19924</td>\n",
       "      <td>79.124174</td>\n",
       "      <td>4.200294</td>\n",
       "      <td>25.419061</td>\n",
       "      <td>1083.798770</td>\n",
       "      <td>545.396183</td>\n",
       "      <td>12.102353</td>\n",
       "      <td>1.972499</td>\n",
       "      <td>68.190934</td>\n",
       "    </tr>\n",
       "    <tr>\n",
       "      <th>std</th>\n",
       "      <td>7.574323</td>\n",
       "      <td>6.41076</td>\n",
       "      <td>13.793439</td>\n",
       "      <td>0.760197</td>\n",
       "      <td>4.173916</td>\n",
       "      <td>16.527806</td>\n",
       "      <td>7.866803</td>\n",
       "      <td>1.103196</td>\n",
       "      <td>2.222206</td>\n",
       "      <td>10.470586</td>\n",
       "    </tr>\n",
       "    <tr>\n",
       "      <th>min</th>\n",
       "      <td>0.522300</td>\n",
       "      <td>985.85000</td>\n",
       "      <td>30.344000</td>\n",
       "      <td>2.087400</td>\n",
       "      <td>17.878000</td>\n",
       "      <td>1000.800000</td>\n",
       "      <td>512.450000</td>\n",
       "      <td>9.904400</td>\n",
       "      <td>0.000388</td>\n",
       "      <td>27.765000</td>\n",
       "    </tr>\n",
       "    <tr>\n",
       "      <th>25%</th>\n",
       "      <td>11.408000</td>\n",
       "      <td>1008.90000</td>\n",
       "      <td>69.750000</td>\n",
       "      <td>3.723900</td>\n",
       "      <td>23.294000</td>\n",
       "      <td>1079.600000</td>\n",
       "      <td>542.170000</td>\n",
       "      <td>11.622000</td>\n",
       "      <td>0.858055</td>\n",
       "      <td>61.303500</td>\n",
       "    </tr>\n",
       "    <tr>\n",
       "      <th>50%</th>\n",
       "      <td>18.186000</td>\n",
       "      <td>1012.80000</td>\n",
       "      <td>82.266000</td>\n",
       "      <td>4.186200</td>\n",
       "      <td>25.082000</td>\n",
       "      <td>1088.700000</td>\n",
       "      <td>549.890000</td>\n",
       "      <td>12.025000</td>\n",
       "      <td>1.390200</td>\n",
       "      <td>66.601000</td>\n",
       "    </tr>\n",
       "    <tr>\n",
       "      <th>75%</th>\n",
       "      <td>23.862500</td>\n",
       "      <td>1016.90000</td>\n",
       "      <td>90.043500</td>\n",
       "      <td>4.550900</td>\n",
       "      <td>27.184000</td>\n",
       "      <td>1096.000000</td>\n",
       "      <td>550.060000</td>\n",
       "      <td>12.578000</td>\n",
       "      <td>2.160400</td>\n",
       "      <td>73.935500</td>\n",
       "    </tr>\n",
       "    <tr>\n",
       "      <th>max</th>\n",
       "      <td>34.929000</td>\n",
       "      <td>1034.20000</td>\n",
       "      <td>100.200000</td>\n",
       "      <td>7.610600</td>\n",
       "      <td>37.402000</td>\n",
       "      <td>1100.800000</td>\n",
       "      <td>550.610000</td>\n",
       "      <td>15.081000</td>\n",
       "      <td>44.103000</td>\n",
       "      <td>119.890000</td>\n",
       "    </tr>\n",
       "  </tbody>\n",
       "</table>\n",
       "</div>"
      ],
      "text/plain": [
       "                 AT           AP            AH          AFDP          GTEP  \\\n",
       "count  15039.000000  15039.00000  15039.000000  15039.000000  15039.000000   \n",
       "mean      17.764381   1013.19924     79.124174      4.200294     25.419061   \n",
       "std        7.574323      6.41076     13.793439      0.760197      4.173916   \n",
       "min        0.522300    985.85000     30.344000      2.087400     17.878000   \n",
       "25%       11.408000   1008.90000     69.750000      3.723900     23.294000   \n",
       "50%       18.186000   1012.80000     82.266000      4.186200     25.082000   \n",
       "75%       23.862500   1016.90000     90.043500      4.550900     27.184000   \n",
       "max       34.929000   1034.20000    100.200000      7.610600     37.402000   \n",
       "\n",
       "                TIT           TAT           CDP            CO           NOX  \n",
       "count  15039.000000  15039.000000  15039.000000  15039.000000  15039.000000  \n",
       "mean    1083.798770    545.396183     12.102353      1.972499     68.190934  \n",
       "std       16.527806      7.866803      1.103196      2.222206     10.470586  \n",
       "min     1000.800000    512.450000      9.904400      0.000388     27.765000  \n",
       "25%     1079.600000    542.170000     11.622000      0.858055     61.303500  \n",
       "50%     1088.700000    549.890000     12.025000      1.390200     66.601000  \n",
       "75%     1096.000000    550.060000     12.578000      2.160400     73.935500  \n",
       "max     1100.800000    550.610000     15.081000     44.103000    119.890000  "
      ]
     },
     "execution_count": 17,
     "metadata": {},
     "output_type": "execute_result"
    }
   ],
   "source": [
    "x.describe()"
   ]
  },
  {
   "cell_type": "code",
   "execution_count": 25,
   "id": "77a4b75f",
   "metadata": {},
   "outputs": [],
   "source": [
    "from sklearn.model_selection import GridSearchCV,KFold\n",
    "from keras.wrappers.scikit_learn import KerasRegressor      # As the task is Regression\n",
    "from tensorflow.keras.optimizers import Adam\n",
    "import warnings\n",
    "warnings.filterwarnings(\"ignore\")"
   ]
  },
  {
   "cell_type": "code",
   "execution_count": 19,
   "id": "c903ba94",
   "metadata": {},
   "outputs": [],
   "source": [
    "def create_model():\n",
    "    model = Sequential()\n",
    "    model.add(Dense(8,input_dim = 10,kernel_initializer = 'uniform', activation = 'relu'))\n",
    "    model.add(Dense(5,kernel_initializer = 'uniform', activation = 'relu'))\n",
    "    model.add(Dense(1,kernel_initializer = 'uniform', activation = 'sigmoid'))\n",
    "    \n",
    "    adam = Adam(lr = 0.01)\n",
    "    model.compile(loss = 'mean_squared_error', optimizer = 'adam', metrics = ['accuracy'])\n",
    "    return model"
   ]
  },
  {
   "cell_type": "code",
   "execution_count": 20,
   "id": "1e16ede2",
   "metadata": {},
   "outputs": [
    {
     "name": "stdout",
     "output_type": "stream",
     "text": [
      "Fitting 5 folds for each of 16 candidates, totalling 80 fits\n",
      "[CV 1/5; 1/16] START batch_size=60, epochs=20...................................\n"
     ]
    },
    {
     "name": "stderr",
     "output_type": "stream",
     "text": [
      "C:\\Users\\dell\\anaconda3\\lib\\site-packages\\keras\\optimizer_v2\\optimizer_v2.py:355: UserWarning: The `lr` argument is deprecated, use `learning_rate` instead.\n",
      "  warnings.warn(\n"
     ]
    },
    {
     "name": "stdout",
     "output_type": "stream",
     "text": [
      "[CV 1/5; 1/16] END .................batch_size=60, epochs=20; total time=   4.5s\n",
      "[CV 2/5; 1/16] START batch_size=60, epochs=20...................................\n"
     ]
    },
    {
     "name": "stderr",
     "output_type": "stream",
     "text": [
      "C:\\Users\\dell\\anaconda3\\lib\\site-packages\\keras\\optimizer_v2\\optimizer_v2.py:355: UserWarning: The `lr` argument is deprecated, use `learning_rate` instead.\n",
      "  warnings.warn(\n"
     ]
    },
    {
     "name": "stdout",
     "output_type": "stream",
     "text": [
      "[CV 2/5; 1/16] END .................batch_size=60, epochs=20; total time=   4.3s\n",
      "[CV 3/5; 1/16] START batch_size=60, epochs=20...................................\n"
     ]
    },
    {
     "name": "stderr",
     "output_type": "stream",
     "text": [
      "C:\\Users\\dell\\anaconda3\\lib\\site-packages\\keras\\optimizer_v2\\optimizer_v2.py:355: UserWarning: The `lr` argument is deprecated, use `learning_rate` instead.\n",
      "  warnings.warn(\n"
     ]
    },
    {
     "name": "stdout",
     "output_type": "stream",
     "text": [
      "[CV 3/5; 1/16] END .................batch_size=60, epochs=20; total time=   4.2s\n",
      "[CV 4/5; 1/16] START batch_size=60, epochs=20...................................\n"
     ]
    },
    {
     "name": "stderr",
     "output_type": "stream",
     "text": [
      "C:\\Users\\dell\\anaconda3\\lib\\site-packages\\keras\\optimizer_v2\\optimizer_v2.py:355: UserWarning: The `lr` argument is deprecated, use `learning_rate` instead.\n",
      "  warnings.warn(\n"
     ]
    },
    {
     "name": "stdout",
     "output_type": "stream",
     "text": [
      "[CV 4/5; 1/16] END .................batch_size=60, epochs=20; total time=   4.6s\n",
      "[CV 5/5; 1/16] START batch_size=60, epochs=20...................................\n"
     ]
    },
    {
     "name": "stderr",
     "output_type": "stream",
     "text": [
      "C:\\Users\\dell\\anaconda3\\lib\\site-packages\\keras\\optimizer_v2\\optimizer_v2.py:355: UserWarning: The `lr` argument is deprecated, use `learning_rate` instead.\n",
      "  warnings.warn(\n"
     ]
    },
    {
     "name": "stdout",
     "output_type": "stream",
     "text": [
      "[CV 5/5; 1/16] END .................batch_size=60, epochs=20; total time=   4.3s\n",
      "[CV 1/5; 2/16] START batch_size=60, epochs=40...................................\n"
     ]
    },
    {
     "name": "stderr",
     "output_type": "stream",
     "text": [
      "C:\\Users\\dell\\anaconda3\\lib\\site-packages\\keras\\optimizer_v2\\optimizer_v2.py:355: UserWarning: The `lr` argument is deprecated, use `learning_rate` instead.\n",
      "  warnings.warn(\n"
     ]
    },
    {
     "name": "stdout",
     "output_type": "stream",
     "text": [
      "[CV 1/5; 2/16] END .................batch_size=60, epochs=40; total time=   8.3s\n",
      "[CV 2/5; 2/16] START batch_size=60, epochs=40...................................\n"
     ]
    },
    {
     "name": "stderr",
     "output_type": "stream",
     "text": [
      "C:\\Users\\dell\\anaconda3\\lib\\site-packages\\keras\\optimizer_v2\\optimizer_v2.py:355: UserWarning: The `lr` argument is deprecated, use `learning_rate` instead.\n",
      "  warnings.warn(\n"
     ]
    },
    {
     "name": "stdout",
     "output_type": "stream",
     "text": [
      "[CV 2/5; 2/16] END .................batch_size=60, epochs=40; total time=   8.2s\n",
      "[CV 3/5; 2/16] START batch_size=60, epochs=40...................................\n"
     ]
    },
    {
     "name": "stderr",
     "output_type": "stream",
     "text": [
      "C:\\Users\\dell\\anaconda3\\lib\\site-packages\\keras\\optimizer_v2\\optimizer_v2.py:355: UserWarning: The `lr` argument is deprecated, use `learning_rate` instead.\n",
      "  warnings.warn(\n"
     ]
    },
    {
     "name": "stdout",
     "output_type": "stream",
     "text": [
      "[CV 3/5; 2/16] END .................batch_size=60, epochs=40; total time=   8.5s\n",
      "[CV 4/5; 2/16] START batch_size=60, epochs=40...................................\n"
     ]
    },
    {
     "name": "stderr",
     "output_type": "stream",
     "text": [
      "C:\\Users\\dell\\anaconda3\\lib\\site-packages\\keras\\optimizer_v2\\optimizer_v2.py:355: UserWarning: The `lr` argument is deprecated, use `learning_rate` instead.\n",
      "  warnings.warn(\n"
     ]
    },
    {
     "name": "stdout",
     "output_type": "stream",
     "text": [
      "[CV 4/5; 2/16] END .................batch_size=60, epochs=40; total time=   8.1s\n",
      "[CV 5/5; 2/16] START batch_size=60, epochs=40...................................\n"
     ]
    },
    {
     "name": "stderr",
     "output_type": "stream",
     "text": [
      "C:\\Users\\dell\\anaconda3\\lib\\site-packages\\keras\\optimizer_v2\\optimizer_v2.py:355: UserWarning: The `lr` argument is deprecated, use `learning_rate` instead.\n",
      "  warnings.warn(\n"
     ]
    },
    {
     "name": "stdout",
     "output_type": "stream",
     "text": [
      "[CV 5/5; 2/16] END .................batch_size=60, epochs=40; total time=   8.8s\n",
      "[CV 1/5; 3/16] START batch_size=60, epochs=50...................................\n"
     ]
    },
    {
     "name": "stderr",
     "output_type": "stream",
     "text": [
      "C:\\Users\\dell\\anaconda3\\lib\\site-packages\\keras\\optimizer_v2\\optimizer_v2.py:355: UserWarning: The `lr` argument is deprecated, use `learning_rate` instead.\n",
      "  warnings.warn(\n"
     ]
    },
    {
     "name": "stdout",
     "output_type": "stream",
     "text": [
      "[CV 1/5; 3/16] END .................batch_size=60, epochs=50; total time=   9.9s\n",
      "[CV 2/5; 3/16] START batch_size=60, epochs=50...................................\n"
     ]
    },
    {
     "name": "stderr",
     "output_type": "stream",
     "text": [
      "C:\\Users\\dell\\anaconda3\\lib\\site-packages\\keras\\optimizer_v2\\optimizer_v2.py:355: UserWarning: The `lr` argument is deprecated, use `learning_rate` instead.\n",
      "  warnings.warn(\n"
     ]
    },
    {
     "name": "stdout",
     "output_type": "stream",
     "text": [
      "[CV 2/5; 3/16] END .................batch_size=60, epochs=50; total time=  10.7s\n",
      "[CV 3/5; 3/16] START batch_size=60, epochs=50...................................\n"
     ]
    },
    {
     "name": "stderr",
     "output_type": "stream",
     "text": [
      "C:\\Users\\dell\\anaconda3\\lib\\site-packages\\keras\\optimizer_v2\\optimizer_v2.py:355: UserWarning: The `lr` argument is deprecated, use `learning_rate` instead.\n",
      "  warnings.warn(\n"
     ]
    },
    {
     "name": "stdout",
     "output_type": "stream",
     "text": [
      "[CV 3/5; 3/16] END .................batch_size=60, epochs=50; total time=  24.5s\n",
      "[CV 4/5; 3/16] START batch_size=60, epochs=50...................................\n"
     ]
    },
    {
     "name": "stderr",
     "output_type": "stream",
     "text": [
      "C:\\Users\\dell\\anaconda3\\lib\\site-packages\\keras\\optimizer_v2\\optimizer_v2.py:355: UserWarning: The `lr` argument is deprecated, use `learning_rate` instead.\n",
      "  warnings.warn(\n"
     ]
    },
    {
     "name": "stdout",
     "output_type": "stream",
     "text": [
      "[CV 4/5; 3/16] END .................batch_size=60, epochs=50; total time=  13.6s\n",
      "[CV 5/5; 3/16] START batch_size=60, epochs=50...................................\n"
     ]
    },
    {
     "name": "stderr",
     "output_type": "stream",
     "text": [
      "C:\\Users\\dell\\anaconda3\\lib\\site-packages\\keras\\optimizer_v2\\optimizer_v2.py:355: UserWarning: The `lr` argument is deprecated, use `learning_rate` instead.\n",
      "  warnings.warn(\n"
     ]
    },
    {
     "name": "stdout",
     "output_type": "stream",
     "text": [
      "[CV 5/5; 3/16] END .................batch_size=60, epochs=50; total time=  13.1s\n",
      "[CV 1/5; 4/16] START batch_size=60, epochs=70...................................\n"
     ]
    },
    {
     "name": "stderr",
     "output_type": "stream",
     "text": [
      "C:\\Users\\dell\\anaconda3\\lib\\site-packages\\keras\\optimizer_v2\\optimizer_v2.py:355: UserWarning: The `lr` argument is deprecated, use `learning_rate` instead.\n",
      "  warnings.warn(\n"
     ]
    },
    {
     "name": "stdout",
     "output_type": "stream",
     "text": [
      "[CV 1/5; 4/16] END .................batch_size=60, epochs=70; total time=  16.7s\n",
      "[CV 2/5; 4/16] START batch_size=60, epochs=70...................................\n"
     ]
    },
    {
     "name": "stderr",
     "output_type": "stream",
     "text": [
      "C:\\Users\\dell\\anaconda3\\lib\\site-packages\\keras\\optimizer_v2\\optimizer_v2.py:355: UserWarning: The `lr` argument is deprecated, use `learning_rate` instead.\n",
      "  warnings.warn(\n"
     ]
    },
    {
     "name": "stdout",
     "output_type": "stream",
     "text": [
      "[CV 2/5; 4/16] END .................batch_size=60, epochs=70; total time=  18.0s\n",
      "[CV 3/5; 4/16] START batch_size=60, epochs=70...................................\n"
     ]
    },
    {
     "name": "stderr",
     "output_type": "stream",
     "text": [
      "C:\\Users\\dell\\anaconda3\\lib\\site-packages\\keras\\optimizer_v2\\optimizer_v2.py:355: UserWarning: The `lr` argument is deprecated, use `learning_rate` instead.\n",
      "  warnings.warn(\n"
     ]
    },
    {
     "name": "stdout",
     "output_type": "stream",
     "text": [
      "[CV 3/5; 4/16] END .................batch_size=60, epochs=70; total time=  16.4s\n",
      "[CV 4/5; 4/16] START batch_size=60, epochs=70...................................\n"
     ]
    },
    {
     "name": "stderr",
     "output_type": "stream",
     "text": [
      "C:\\Users\\dell\\anaconda3\\lib\\site-packages\\keras\\optimizer_v2\\optimizer_v2.py:355: UserWarning: The `lr` argument is deprecated, use `learning_rate` instead.\n",
      "  warnings.warn(\n"
     ]
    },
    {
     "name": "stdout",
     "output_type": "stream",
     "text": [
      "[CV 4/5; 4/16] END .................batch_size=60, epochs=70; total time=  17.9s\n",
      "[CV 5/5; 4/16] START batch_size=60, epochs=70...................................\n"
     ]
    },
    {
     "name": "stderr",
     "output_type": "stream",
     "text": [
      "C:\\Users\\dell\\anaconda3\\lib\\site-packages\\keras\\optimizer_v2\\optimizer_v2.py:355: UserWarning: The `lr` argument is deprecated, use `learning_rate` instead.\n",
      "  warnings.warn(\n"
     ]
    },
    {
     "name": "stdout",
     "output_type": "stream",
     "text": [
      "[CV 5/5; 4/16] END .................batch_size=60, epochs=70; total time=  16.8s\n",
      "[CV 1/5; 5/16] START batch_size=80, epochs=20...................................\n"
     ]
    },
    {
     "name": "stderr",
     "output_type": "stream",
     "text": [
      "C:\\Users\\dell\\anaconda3\\lib\\site-packages\\keras\\optimizer_v2\\optimizer_v2.py:355: UserWarning: The `lr` argument is deprecated, use `learning_rate` instead.\n",
      "  warnings.warn(\n"
     ]
    },
    {
     "name": "stdout",
     "output_type": "stream",
     "text": [
      "[CV 1/5; 5/16] END .................batch_size=80, epochs=20; total time=   3.6s\n",
      "[CV 2/5; 5/16] START batch_size=80, epochs=20...................................\n"
     ]
    },
    {
     "name": "stderr",
     "output_type": "stream",
     "text": [
      "C:\\Users\\dell\\anaconda3\\lib\\site-packages\\keras\\optimizer_v2\\optimizer_v2.py:355: UserWarning: The `lr` argument is deprecated, use `learning_rate` instead.\n",
      "  warnings.warn(\n"
     ]
    },
    {
     "name": "stdout",
     "output_type": "stream",
     "text": [
      "[CV 2/5; 5/16] END .................batch_size=80, epochs=20; total time=   3.4s\n",
      "[CV 3/5; 5/16] START batch_size=80, epochs=20...................................\n"
     ]
    },
    {
     "name": "stderr",
     "output_type": "stream",
     "text": [
      "C:\\Users\\dell\\anaconda3\\lib\\site-packages\\keras\\optimizer_v2\\optimizer_v2.py:355: UserWarning: The `lr` argument is deprecated, use `learning_rate` instead.\n",
      "  warnings.warn(\n"
     ]
    },
    {
     "name": "stdout",
     "output_type": "stream",
     "text": [
      "[CV 3/5; 5/16] END .................batch_size=80, epochs=20; total time=   5.3s\n",
      "[CV 4/5; 5/16] START batch_size=80, epochs=20...................................\n"
     ]
    },
    {
     "name": "stderr",
     "output_type": "stream",
     "text": [
      "C:\\Users\\dell\\anaconda3\\lib\\site-packages\\keras\\optimizer_v2\\optimizer_v2.py:355: UserWarning: The `lr` argument is deprecated, use `learning_rate` instead.\n",
      "  warnings.warn(\n"
     ]
    },
    {
     "name": "stdout",
     "output_type": "stream",
     "text": [
      "[CV 4/5; 5/16] END .................batch_size=80, epochs=20; total time=   3.6s\n",
      "[CV 5/5; 5/16] START batch_size=80, epochs=20...................................\n"
     ]
    },
    {
     "name": "stderr",
     "output_type": "stream",
     "text": [
      "C:\\Users\\dell\\anaconda3\\lib\\site-packages\\keras\\optimizer_v2\\optimizer_v2.py:355: UserWarning: The `lr` argument is deprecated, use `learning_rate` instead.\n",
      "  warnings.warn(\n"
     ]
    },
    {
     "name": "stdout",
     "output_type": "stream",
     "text": [
      "[CV 5/5; 5/16] END .................batch_size=80, epochs=20; total time=   3.4s\n",
      "[CV 1/5; 6/16] START batch_size=80, epochs=40...................................\n"
     ]
    },
    {
     "name": "stderr",
     "output_type": "stream",
     "text": [
      "C:\\Users\\dell\\anaconda3\\lib\\site-packages\\keras\\optimizer_v2\\optimizer_v2.py:355: UserWarning: The `lr` argument is deprecated, use `learning_rate` instead.\n",
      "  warnings.warn(\n"
     ]
    },
    {
     "name": "stdout",
     "output_type": "stream",
     "text": [
      "[CV 1/5; 6/16] END .................batch_size=80, epochs=40; total time=   6.4s\n",
      "[CV 2/5; 6/16] START batch_size=80, epochs=40...................................\n"
     ]
    },
    {
     "name": "stderr",
     "output_type": "stream",
     "text": [
      "C:\\Users\\dell\\anaconda3\\lib\\site-packages\\keras\\optimizer_v2\\optimizer_v2.py:355: UserWarning: The `lr` argument is deprecated, use `learning_rate` instead.\n",
      "  warnings.warn(\n"
     ]
    },
    {
     "name": "stdout",
     "output_type": "stream",
     "text": [
      "[CV 2/5; 6/16] END .................batch_size=80, epochs=40; total time=   6.4s\n",
      "[CV 3/5; 6/16] START batch_size=80, epochs=40...................................\n"
     ]
    },
    {
     "name": "stderr",
     "output_type": "stream",
     "text": [
      "C:\\Users\\dell\\anaconda3\\lib\\site-packages\\keras\\optimizer_v2\\optimizer_v2.py:355: UserWarning: The `lr` argument is deprecated, use `learning_rate` instead.\n",
      "  warnings.warn(\n"
     ]
    },
    {
     "name": "stdout",
     "output_type": "stream",
     "text": [
      "[CV 3/5; 6/16] END .................batch_size=80, epochs=40; total time=   6.2s\n",
      "[CV 4/5; 6/16] START batch_size=80, epochs=40...................................\n"
     ]
    },
    {
     "name": "stderr",
     "output_type": "stream",
     "text": [
      "C:\\Users\\dell\\anaconda3\\lib\\site-packages\\keras\\optimizer_v2\\optimizer_v2.py:355: UserWarning: The `lr` argument is deprecated, use `learning_rate` instead.\n",
      "  warnings.warn(\n"
     ]
    },
    {
     "name": "stdout",
     "output_type": "stream",
     "text": [
      "[CV 4/5; 6/16] END .................batch_size=80, epochs=40; total time=   6.2s\n",
      "[CV 5/5; 6/16] START batch_size=80, epochs=40...................................\n"
     ]
    },
    {
     "name": "stderr",
     "output_type": "stream",
     "text": [
      "C:\\Users\\dell\\anaconda3\\lib\\site-packages\\keras\\optimizer_v2\\optimizer_v2.py:355: UserWarning: The `lr` argument is deprecated, use `learning_rate` instead.\n",
      "  warnings.warn(\n"
     ]
    },
    {
     "name": "stdout",
     "output_type": "stream",
     "text": [
      "[CV 5/5; 6/16] END .................batch_size=80, epochs=40; total time=   6.4s\n",
      "[CV 1/5; 7/16] START batch_size=80, epochs=50...................................\n"
     ]
    },
    {
     "name": "stderr",
     "output_type": "stream",
     "text": [
      "C:\\Users\\dell\\anaconda3\\lib\\site-packages\\keras\\optimizer_v2\\optimizer_v2.py:355: UserWarning: The `lr` argument is deprecated, use `learning_rate` instead.\n",
      "  warnings.warn(\n"
     ]
    },
    {
     "name": "stdout",
     "output_type": "stream",
     "text": [
      "[CV 1/5; 7/16] END .................batch_size=80, epochs=50; total time=   7.6s\n",
      "[CV 2/5; 7/16] START batch_size=80, epochs=50...................................\n"
     ]
    },
    {
     "name": "stderr",
     "output_type": "stream",
     "text": [
      "C:\\Users\\dell\\anaconda3\\lib\\site-packages\\keras\\optimizer_v2\\optimizer_v2.py:355: UserWarning: The `lr` argument is deprecated, use `learning_rate` instead.\n",
      "  warnings.warn(\n"
     ]
    },
    {
     "name": "stdout",
     "output_type": "stream",
     "text": [
      "[CV 2/5; 7/16] END .................batch_size=80, epochs=50; total time=   7.8s\n",
      "[CV 3/5; 7/16] START batch_size=80, epochs=50...................................\n"
     ]
    },
    {
     "name": "stderr",
     "output_type": "stream",
     "text": [
      "C:\\Users\\dell\\anaconda3\\lib\\site-packages\\keras\\optimizer_v2\\optimizer_v2.py:355: UserWarning: The `lr` argument is deprecated, use `learning_rate` instead.\n",
      "  warnings.warn(\n"
     ]
    },
    {
     "name": "stdout",
     "output_type": "stream",
     "text": [
      "[CV 3/5; 7/16] END .................batch_size=80, epochs=50; total time=   8.2s\n",
      "[CV 4/5; 7/16] START batch_size=80, epochs=50...................................\n"
     ]
    },
    {
     "name": "stderr",
     "output_type": "stream",
     "text": [
      "C:\\Users\\dell\\anaconda3\\lib\\site-packages\\keras\\optimizer_v2\\optimizer_v2.py:355: UserWarning: The `lr` argument is deprecated, use `learning_rate` instead.\n",
      "  warnings.warn(\n"
     ]
    },
    {
     "name": "stdout",
     "output_type": "stream",
     "text": [
      "[CV 4/5; 7/16] END .................batch_size=80, epochs=50; total time=   7.9s\n",
      "[CV 5/5; 7/16] START batch_size=80, epochs=50...................................\n"
     ]
    },
    {
     "name": "stderr",
     "output_type": "stream",
     "text": [
      "C:\\Users\\dell\\anaconda3\\lib\\site-packages\\keras\\optimizer_v2\\optimizer_v2.py:355: UserWarning: The `lr` argument is deprecated, use `learning_rate` instead.\n",
      "  warnings.warn(\n"
     ]
    },
    {
     "name": "stdout",
     "output_type": "stream",
     "text": [
      "[CV 5/5; 7/16] END .................batch_size=80, epochs=50; total time=   7.7s\n",
      "[CV 1/5; 8/16] START batch_size=80, epochs=70...................................\n"
     ]
    },
    {
     "name": "stderr",
     "output_type": "stream",
     "text": [
      "C:\\Users\\dell\\anaconda3\\lib\\site-packages\\keras\\optimizer_v2\\optimizer_v2.py:355: UserWarning: The `lr` argument is deprecated, use `learning_rate` instead.\n",
      "  warnings.warn(\n"
     ]
    },
    {
     "name": "stdout",
     "output_type": "stream",
     "text": [
      "[CV 1/5; 8/16] END .................batch_size=80, epochs=70; total time=  10.6s\n",
      "[CV 2/5; 8/16] START batch_size=80, epochs=70...................................\n"
     ]
    },
    {
     "name": "stderr",
     "output_type": "stream",
     "text": [
      "C:\\Users\\dell\\anaconda3\\lib\\site-packages\\keras\\optimizer_v2\\optimizer_v2.py:355: UserWarning: The `lr` argument is deprecated, use `learning_rate` instead.\n",
      "  warnings.warn(\n"
     ]
    },
    {
     "name": "stdout",
     "output_type": "stream",
     "text": [
      "[CV 2/5; 8/16] END .................batch_size=80, epochs=70; total time=  10.6s\n",
      "[CV 3/5; 8/16] START batch_size=80, epochs=70...................................\n"
     ]
    },
    {
     "name": "stderr",
     "output_type": "stream",
     "text": [
      "C:\\Users\\dell\\anaconda3\\lib\\site-packages\\keras\\optimizer_v2\\optimizer_v2.py:355: UserWarning: The `lr` argument is deprecated, use `learning_rate` instead.\n",
      "  warnings.warn(\n"
     ]
    },
    {
     "name": "stdout",
     "output_type": "stream",
     "text": [
      "[CV 3/5; 8/16] END .................batch_size=80, epochs=70; total time=  10.4s\n",
      "[CV 4/5; 8/16] START batch_size=80, epochs=70...................................\n"
     ]
    },
    {
     "name": "stderr",
     "output_type": "stream",
     "text": [
      "C:\\Users\\dell\\anaconda3\\lib\\site-packages\\keras\\optimizer_v2\\optimizer_v2.py:355: UserWarning: The `lr` argument is deprecated, use `learning_rate` instead.\n",
      "  warnings.warn(\n"
     ]
    },
    {
     "name": "stdout",
     "output_type": "stream",
     "text": [
      "[CV 4/5; 8/16] END .................batch_size=80, epochs=70; total time=  10.6s\n",
      "[CV 5/5; 8/16] START batch_size=80, epochs=70...................................\n"
     ]
    },
    {
     "name": "stderr",
     "output_type": "stream",
     "text": [
      "C:\\Users\\dell\\anaconda3\\lib\\site-packages\\keras\\optimizer_v2\\optimizer_v2.py:355: UserWarning: The `lr` argument is deprecated, use `learning_rate` instead.\n",
      "  warnings.warn(\n"
     ]
    },
    {
     "name": "stdout",
     "output_type": "stream",
     "text": [
      "[CV 5/5; 8/16] END .................batch_size=80, epochs=70; total time=  10.6s\n",
      "[CV 1/5; 9/16] START batch_size=100, epochs=20..................................\n"
     ]
    },
    {
     "name": "stderr",
     "output_type": "stream",
     "text": [
      "C:\\Users\\dell\\anaconda3\\lib\\site-packages\\keras\\optimizer_v2\\optimizer_v2.py:355: UserWarning: The `lr` argument is deprecated, use `learning_rate` instead.\n",
      "  warnings.warn(\n"
     ]
    },
    {
     "name": "stdout",
     "output_type": "stream",
     "text": [
      "[CV 1/5; 9/16] END ................batch_size=100, epochs=20; total time=   2.8s\n",
      "[CV 2/5; 9/16] START batch_size=100, epochs=20..................................\n"
     ]
    },
    {
     "name": "stderr",
     "output_type": "stream",
     "text": [
      "C:\\Users\\dell\\anaconda3\\lib\\site-packages\\keras\\optimizer_v2\\optimizer_v2.py:355: UserWarning: The `lr` argument is deprecated, use `learning_rate` instead.\n",
      "  warnings.warn(\n"
     ]
    },
    {
     "name": "stdout",
     "output_type": "stream",
     "text": [
      "[CV 2/5; 9/16] END ................batch_size=100, epochs=20; total time=   3.0s\n",
      "[CV 3/5; 9/16] START batch_size=100, epochs=20..................................\n"
     ]
    },
    {
     "name": "stderr",
     "output_type": "stream",
     "text": [
      "C:\\Users\\dell\\anaconda3\\lib\\site-packages\\keras\\optimizer_v2\\optimizer_v2.py:355: UserWarning: The `lr` argument is deprecated, use `learning_rate` instead.\n",
      "  warnings.warn(\n"
     ]
    },
    {
     "name": "stdout",
     "output_type": "stream",
     "text": [
      "[CV 3/5; 9/16] END ................batch_size=100, epochs=20; total time=   3.1s\n",
      "[CV 4/5; 9/16] START batch_size=100, epochs=20..................................\n"
     ]
    },
    {
     "name": "stderr",
     "output_type": "stream",
     "text": [
      "C:\\Users\\dell\\anaconda3\\lib\\site-packages\\keras\\optimizer_v2\\optimizer_v2.py:355: UserWarning: The `lr` argument is deprecated, use `learning_rate` instead.\n",
      "  warnings.warn(\n"
     ]
    },
    {
     "name": "stdout",
     "output_type": "stream",
     "text": [
      "[CV 4/5; 9/16] END ................batch_size=100, epochs=20; total time=   3.3s\n",
      "[CV 5/5; 9/16] START batch_size=100, epochs=20..................................\n"
     ]
    },
    {
     "name": "stderr",
     "output_type": "stream",
     "text": [
      "C:\\Users\\dell\\anaconda3\\lib\\site-packages\\keras\\optimizer_v2\\optimizer_v2.py:355: UserWarning: The `lr` argument is deprecated, use `learning_rate` instead.\n",
      "  warnings.warn(\n"
     ]
    },
    {
     "name": "stdout",
     "output_type": "stream",
     "text": [
      "[CV 5/5; 9/16] END ................batch_size=100, epochs=20; total time=   3.1s\n",
      "[CV 1/5; 10/16] START batch_size=100, epochs=40.................................\n"
     ]
    },
    {
     "name": "stderr",
     "output_type": "stream",
     "text": [
      "C:\\Users\\dell\\anaconda3\\lib\\site-packages\\keras\\optimizer_v2\\optimizer_v2.py:355: UserWarning: The `lr` argument is deprecated, use `learning_rate` instead.\n",
      "  warnings.warn(\n"
     ]
    },
    {
     "name": "stdout",
     "output_type": "stream",
     "text": [
      "[CV 1/5; 10/16] END ...............batch_size=100, epochs=40; total time=   5.3s\n",
      "[CV 2/5; 10/16] START batch_size=100, epochs=40.................................\n"
     ]
    },
    {
     "name": "stderr",
     "output_type": "stream",
     "text": [
      "C:\\Users\\dell\\anaconda3\\lib\\site-packages\\keras\\optimizer_v2\\optimizer_v2.py:355: UserWarning: The `lr` argument is deprecated, use `learning_rate` instead.\n",
      "  warnings.warn(\n"
     ]
    },
    {
     "name": "stdout",
     "output_type": "stream",
     "text": [
      "[CV 2/5; 10/16] END ...............batch_size=100, epochs=40; total time=   5.1s\n",
      "[CV 3/5; 10/16] START batch_size=100, epochs=40.................................\n"
     ]
    },
    {
     "name": "stderr",
     "output_type": "stream",
     "text": [
      "C:\\Users\\dell\\anaconda3\\lib\\site-packages\\keras\\optimizer_v2\\optimizer_v2.py:355: UserWarning: The `lr` argument is deprecated, use `learning_rate` instead.\n",
      "  warnings.warn(\n"
     ]
    },
    {
     "name": "stdout",
     "output_type": "stream",
     "text": [
      "[CV 3/5; 10/16] END ...............batch_size=100, epochs=40; total time=   5.3s\n",
      "[CV 4/5; 10/16] START batch_size=100, epochs=40.................................\n"
     ]
    },
    {
     "name": "stderr",
     "output_type": "stream",
     "text": [
      "C:\\Users\\dell\\anaconda3\\lib\\site-packages\\keras\\optimizer_v2\\optimizer_v2.py:355: UserWarning: The `lr` argument is deprecated, use `learning_rate` instead.\n",
      "  warnings.warn(\n"
     ]
    },
    {
     "name": "stdout",
     "output_type": "stream",
     "text": [
      "[CV 4/5; 10/16] END ...............batch_size=100, epochs=40; total time=   5.1s\n",
      "[CV 5/5; 10/16] START batch_size=100, epochs=40.................................\n"
     ]
    },
    {
     "name": "stderr",
     "output_type": "stream",
     "text": [
      "C:\\Users\\dell\\anaconda3\\lib\\site-packages\\keras\\optimizer_v2\\optimizer_v2.py:355: UserWarning: The `lr` argument is deprecated, use `learning_rate` instead.\n",
      "  warnings.warn(\n"
     ]
    },
    {
     "name": "stdout",
     "output_type": "stream",
     "text": [
      "[CV 5/5; 10/16] END ...............batch_size=100, epochs=40; total time=   5.1s\n",
      "[CV 1/5; 11/16] START batch_size=100, epochs=50.................................\n"
     ]
    },
    {
     "name": "stderr",
     "output_type": "stream",
     "text": [
      "C:\\Users\\dell\\anaconda3\\lib\\site-packages\\keras\\optimizer_v2\\optimizer_v2.py:355: UserWarning: The `lr` argument is deprecated, use `learning_rate` instead.\n",
      "  warnings.warn(\n"
     ]
    },
    {
     "name": "stdout",
     "output_type": "stream",
     "text": [
      "[CV 1/5; 11/16] END ...............batch_size=100, epochs=50; total time=   6.4s\n",
      "[CV 2/5; 11/16] START batch_size=100, epochs=50.................................\n"
     ]
    },
    {
     "name": "stderr",
     "output_type": "stream",
     "text": [
      "C:\\Users\\dell\\anaconda3\\lib\\site-packages\\keras\\optimizer_v2\\optimizer_v2.py:355: UserWarning: The `lr` argument is deprecated, use `learning_rate` instead.\n",
      "  warnings.warn(\n"
     ]
    },
    {
     "name": "stdout",
     "output_type": "stream",
     "text": [
      "[CV 2/5; 11/16] END ...............batch_size=100, epochs=50; total time=   6.4s\n",
      "[CV 3/5; 11/16] START batch_size=100, epochs=50.................................\n"
     ]
    },
    {
     "name": "stderr",
     "output_type": "stream",
     "text": [
      "C:\\Users\\dell\\anaconda3\\lib\\site-packages\\keras\\optimizer_v2\\optimizer_v2.py:355: UserWarning: The `lr` argument is deprecated, use `learning_rate` instead.\n",
      "  warnings.warn(\n"
     ]
    },
    {
     "name": "stdout",
     "output_type": "stream",
     "text": [
      "[CV 3/5; 11/16] END ...............batch_size=100, epochs=50; total time=   6.7s\n",
      "[CV 4/5; 11/16] START batch_size=100, epochs=50.................................\n"
     ]
    },
    {
     "name": "stderr",
     "output_type": "stream",
     "text": [
      "C:\\Users\\dell\\anaconda3\\lib\\site-packages\\keras\\optimizer_v2\\optimizer_v2.py:355: UserWarning: The `lr` argument is deprecated, use `learning_rate` instead.\n",
      "  warnings.warn(\n"
     ]
    },
    {
     "name": "stdout",
     "output_type": "stream",
     "text": [
      "[CV 4/5; 11/16] END ...............batch_size=100, epochs=50; total time=   8.1s\n",
      "[CV 5/5; 11/16] START batch_size=100, epochs=50.................................\n"
     ]
    },
    {
     "name": "stderr",
     "output_type": "stream",
     "text": [
      "C:\\Users\\dell\\anaconda3\\lib\\site-packages\\keras\\optimizer_v2\\optimizer_v2.py:355: UserWarning: The `lr` argument is deprecated, use `learning_rate` instead.\n",
      "  warnings.warn(\n"
     ]
    },
    {
     "name": "stdout",
     "output_type": "stream",
     "text": [
      "[CV 5/5; 11/16] END ...............batch_size=100, epochs=50; total time=   8.1s\n",
      "[CV 1/5; 12/16] START batch_size=100, epochs=70.................................\n"
     ]
    },
    {
     "name": "stderr",
     "output_type": "stream",
     "text": [
      "C:\\Users\\dell\\anaconda3\\lib\\site-packages\\keras\\optimizer_v2\\optimizer_v2.py:355: UserWarning: The `lr` argument is deprecated, use `learning_rate` instead.\n",
      "  warnings.warn(\n"
     ]
    },
    {
     "name": "stdout",
     "output_type": "stream",
     "text": [
      "[CV 1/5; 12/16] END ...............batch_size=100, epochs=70; total time=  11.7s\n",
      "[CV 2/5; 12/16] START batch_size=100, epochs=70.................................\n"
     ]
    },
    {
     "name": "stderr",
     "output_type": "stream",
     "text": [
      "C:\\Users\\dell\\anaconda3\\lib\\site-packages\\keras\\optimizer_v2\\optimizer_v2.py:355: UserWarning: The `lr` argument is deprecated, use `learning_rate` instead.\n",
      "  warnings.warn(\n"
     ]
    },
    {
     "name": "stdout",
     "output_type": "stream",
     "text": [
      "[CV 2/5; 12/16] END ...............batch_size=100, epochs=70; total time=  11.7s\n",
      "[CV 3/5; 12/16] START batch_size=100, epochs=70.................................\n"
     ]
    },
    {
     "name": "stderr",
     "output_type": "stream",
     "text": [
      "C:\\Users\\dell\\anaconda3\\lib\\site-packages\\keras\\optimizer_v2\\optimizer_v2.py:355: UserWarning: The `lr` argument is deprecated, use `learning_rate` instead.\n",
      "  warnings.warn(\n"
     ]
    },
    {
     "name": "stdout",
     "output_type": "stream",
     "text": [
      "[CV 3/5; 12/16] END ...............batch_size=100, epochs=70; total time=   9.2s\n",
      "[CV 4/5; 12/16] START batch_size=100, epochs=70.................................\n"
     ]
    },
    {
     "name": "stderr",
     "output_type": "stream",
     "text": [
      "C:\\Users\\dell\\anaconda3\\lib\\site-packages\\keras\\optimizer_v2\\optimizer_v2.py:355: UserWarning: The `lr` argument is deprecated, use `learning_rate` instead.\n",
      "  warnings.warn(\n"
     ]
    },
    {
     "name": "stdout",
     "output_type": "stream",
     "text": [
      "[CV 4/5; 12/16] END ...............batch_size=100, epochs=70; total time=   9.5s\n",
      "[CV 5/5; 12/16] START batch_size=100, epochs=70.................................\n"
     ]
    },
    {
     "name": "stderr",
     "output_type": "stream",
     "text": [
      "C:\\Users\\dell\\anaconda3\\lib\\site-packages\\keras\\optimizer_v2\\optimizer_v2.py:355: UserWarning: The `lr` argument is deprecated, use `learning_rate` instead.\n",
      "  warnings.warn(\n"
     ]
    },
    {
     "name": "stdout",
     "output_type": "stream",
     "text": [
      "[CV 5/5; 12/16] END ...............batch_size=100, epochs=70; total time=   9.6s\n",
      "[CV 1/5; 13/16] START batch_size=200, epochs=20.................................\n"
     ]
    },
    {
     "name": "stderr",
     "output_type": "stream",
     "text": [
      "C:\\Users\\dell\\anaconda3\\lib\\site-packages\\keras\\optimizer_v2\\optimizer_v2.py:355: UserWarning: The `lr` argument is deprecated, use `learning_rate` instead.\n",
      "  warnings.warn(\n"
     ]
    },
    {
     "name": "stdout",
     "output_type": "stream",
     "text": [
      "[CV 1/5; 13/16] END ...............batch_size=200, epochs=20; total time=   2.4s\n",
      "[CV 2/5; 13/16] START batch_size=200, epochs=20.................................\n"
     ]
    },
    {
     "name": "stderr",
     "output_type": "stream",
     "text": [
      "C:\\Users\\dell\\anaconda3\\lib\\site-packages\\keras\\optimizer_v2\\optimizer_v2.py:355: UserWarning: The `lr` argument is deprecated, use `learning_rate` instead.\n",
      "  warnings.warn(\n"
     ]
    },
    {
     "name": "stdout",
     "output_type": "stream",
     "text": [
      "[CV 2/5; 13/16] END ...............batch_size=200, epochs=20; total time=   2.1s\n",
      "[CV 3/5; 13/16] START batch_size=200, epochs=20.................................\n"
     ]
    },
    {
     "name": "stderr",
     "output_type": "stream",
     "text": [
      "C:\\Users\\dell\\anaconda3\\lib\\site-packages\\keras\\optimizer_v2\\optimizer_v2.py:355: UserWarning: The `lr` argument is deprecated, use `learning_rate` instead.\n",
      "  warnings.warn(\n"
     ]
    },
    {
     "name": "stdout",
     "output_type": "stream",
     "text": [
      "[CV 3/5; 13/16] END ...............batch_size=200, epochs=20; total time=   2.2s\n",
      "[CV 4/5; 13/16] START batch_size=200, epochs=20.................................\n"
     ]
    },
    {
     "name": "stderr",
     "output_type": "stream",
     "text": [
      "C:\\Users\\dell\\anaconda3\\lib\\site-packages\\keras\\optimizer_v2\\optimizer_v2.py:355: UserWarning: The `lr` argument is deprecated, use `learning_rate` instead.\n",
      "  warnings.warn(\n"
     ]
    },
    {
     "name": "stdout",
     "output_type": "stream",
     "text": [
      "[CV 4/5; 13/16] END ...............batch_size=200, epochs=20; total time=   1.9s\n",
      "[CV 5/5; 13/16] START batch_size=200, epochs=20.................................\n"
     ]
    },
    {
     "name": "stderr",
     "output_type": "stream",
     "text": [
      "C:\\Users\\dell\\anaconda3\\lib\\site-packages\\keras\\optimizer_v2\\optimizer_v2.py:355: UserWarning: The `lr` argument is deprecated, use `learning_rate` instead.\n",
      "  warnings.warn(\n"
     ]
    },
    {
     "name": "stdout",
     "output_type": "stream",
     "text": [
      "[CV 5/5; 13/16] END ...............batch_size=200, epochs=20; total time=   2.0s\n",
      "[CV 1/5; 14/16] START batch_size=200, epochs=40.................................\n"
     ]
    },
    {
     "name": "stderr",
     "output_type": "stream",
     "text": [
      "C:\\Users\\dell\\anaconda3\\lib\\site-packages\\keras\\optimizer_v2\\optimizer_v2.py:355: UserWarning: The `lr` argument is deprecated, use `learning_rate` instead.\n",
      "  warnings.warn(\n"
     ]
    },
    {
     "name": "stdout",
     "output_type": "stream",
     "text": [
      "[CV 1/5; 14/16] END ...............batch_size=200, epochs=40; total time=   3.4s\n",
      "[CV 2/5; 14/16] START batch_size=200, epochs=40.................................\n"
     ]
    },
    {
     "name": "stderr",
     "output_type": "stream",
     "text": [
      "C:\\Users\\dell\\anaconda3\\lib\\site-packages\\keras\\optimizer_v2\\optimizer_v2.py:355: UserWarning: The `lr` argument is deprecated, use `learning_rate` instead.\n",
      "  warnings.warn(\n"
     ]
    },
    {
     "name": "stdout",
     "output_type": "stream",
     "text": [
      "[CV 2/5; 14/16] END ...............batch_size=200, epochs=40; total time=   3.4s\n",
      "[CV 3/5; 14/16] START batch_size=200, epochs=40.................................\n"
     ]
    },
    {
     "name": "stderr",
     "output_type": "stream",
     "text": [
      "C:\\Users\\dell\\anaconda3\\lib\\site-packages\\keras\\optimizer_v2\\optimizer_v2.py:355: UserWarning: The `lr` argument is deprecated, use `learning_rate` instead.\n",
      "  warnings.warn(\n"
     ]
    },
    {
     "name": "stdout",
     "output_type": "stream",
     "text": [
      "[CV 3/5; 14/16] END ...............batch_size=200, epochs=40; total time=   3.7s\n",
      "[CV 4/5; 14/16] START batch_size=200, epochs=40.................................\n"
     ]
    },
    {
     "name": "stderr",
     "output_type": "stream",
     "text": [
      "C:\\Users\\dell\\anaconda3\\lib\\site-packages\\keras\\optimizer_v2\\optimizer_v2.py:355: UserWarning: The `lr` argument is deprecated, use `learning_rate` instead.\n",
      "  warnings.warn(\n"
     ]
    },
    {
     "name": "stdout",
     "output_type": "stream",
     "text": [
      "[CV 4/5; 14/16] END ...............batch_size=200, epochs=40; total time=   3.5s\n",
      "[CV 5/5; 14/16] START batch_size=200, epochs=40.................................\n"
     ]
    },
    {
     "name": "stderr",
     "output_type": "stream",
     "text": [
      "C:\\Users\\dell\\anaconda3\\lib\\site-packages\\keras\\optimizer_v2\\optimizer_v2.py:355: UserWarning: The `lr` argument is deprecated, use `learning_rate` instead.\n",
      "  warnings.warn(\n"
     ]
    },
    {
     "name": "stdout",
     "output_type": "stream",
     "text": [
      "[CV 5/5; 14/16] END ...............batch_size=200, epochs=40; total time=   3.7s\n",
      "[CV 1/5; 15/16] START batch_size=200, epochs=50.................................\n"
     ]
    },
    {
     "name": "stderr",
     "output_type": "stream",
     "text": [
      "C:\\Users\\dell\\anaconda3\\lib\\site-packages\\keras\\optimizer_v2\\optimizer_v2.py:355: UserWarning: The `lr` argument is deprecated, use `learning_rate` instead.\n",
      "  warnings.warn(\n"
     ]
    },
    {
     "name": "stdout",
     "output_type": "stream",
     "text": [
      "[CV 1/5; 15/16] END ...............batch_size=200, epochs=50; total time=   4.5s\n",
      "[CV 2/5; 15/16] START batch_size=200, epochs=50.................................\n"
     ]
    },
    {
     "name": "stderr",
     "output_type": "stream",
     "text": [
      "C:\\Users\\dell\\anaconda3\\lib\\site-packages\\keras\\optimizer_v2\\optimizer_v2.py:355: UserWarning: The `lr` argument is deprecated, use `learning_rate` instead.\n",
      "  warnings.warn(\n"
     ]
    },
    {
     "name": "stdout",
     "output_type": "stream",
     "text": [
      "[CV 2/5; 15/16] END ...............batch_size=200, epochs=50; total time=   3.9s\n",
      "[CV 3/5; 15/16] START batch_size=200, epochs=50.................................\n"
     ]
    },
    {
     "name": "stderr",
     "output_type": "stream",
     "text": [
      "C:\\Users\\dell\\anaconda3\\lib\\site-packages\\keras\\optimizer_v2\\optimizer_v2.py:355: UserWarning: The `lr` argument is deprecated, use `learning_rate` instead.\n",
      "  warnings.warn(\n"
     ]
    },
    {
     "name": "stdout",
     "output_type": "stream",
     "text": [
      "[CV 3/5; 15/16] END ...............batch_size=200, epochs=50; total time=   3.7s\n",
      "[CV 4/5; 15/16] START batch_size=200, epochs=50.................................\n"
     ]
    },
    {
     "name": "stderr",
     "output_type": "stream",
     "text": [
      "C:\\Users\\dell\\anaconda3\\lib\\site-packages\\keras\\optimizer_v2\\optimizer_v2.py:355: UserWarning: The `lr` argument is deprecated, use `learning_rate` instead.\n",
      "  warnings.warn(\n"
     ]
    },
    {
     "name": "stdout",
     "output_type": "stream",
     "text": [
      "[CV 4/5; 15/16] END ...............batch_size=200, epochs=50; total time=   4.8s\n",
      "[CV 5/5; 15/16] START batch_size=200, epochs=50.................................\n"
     ]
    },
    {
     "name": "stderr",
     "output_type": "stream",
     "text": [
      "C:\\Users\\dell\\anaconda3\\lib\\site-packages\\keras\\optimizer_v2\\optimizer_v2.py:355: UserWarning: The `lr` argument is deprecated, use `learning_rate` instead.\n",
      "  warnings.warn(\n"
     ]
    },
    {
     "name": "stdout",
     "output_type": "stream",
     "text": [
      "[CV 5/5; 15/16] END ...............batch_size=200, epochs=50; total time=   3.8s\n",
      "[CV 1/5; 16/16] START batch_size=200, epochs=70.................................\n"
     ]
    },
    {
     "name": "stderr",
     "output_type": "stream",
     "text": [
      "C:\\Users\\dell\\anaconda3\\lib\\site-packages\\keras\\optimizer_v2\\optimizer_v2.py:355: UserWarning: The `lr` argument is deprecated, use `learning_rate` instead.\n",
      "  warnings.warn(\n"
     ]
    },
    {
     "name": "stdout",
     "output_type": "stream",
     "text": [
      "[CV 1/5; 16/16] END ...............batch_size=200, epochs=70; total time=   5.5s\n",
      "[CV 2/5; 16/16] START batch_size=200, epochs=70.................................\n"
     ]
    },
    {
     "name": "stderr",
     "output_type": "stream",
     "text": [
      "C:\\Users\\dell\\anaconda3\\lib\\site-packages\\keras\\optimizer_v2\\optimizer_v2.py:355: UserWarning: The `lr` argument is deprecated, use `learning_rate` instead.\n",
      "  warnings.warn(\n"
     ]
    },
    {
     "name": "stdout",
     "output_type": "stream",
     "text": [
      "[CV 2/5; 16/16] END ...............batch_size=200, epochs=70; total time=   5.7s\n",
      "[CV 3/5; 16/16] START batch_size=200, epochs=70.................................\n"
     ]
    },
    {
     "name": "stderr",
     "output_type": "stream",
     "text": [
      "C:\\Users\\dell\\anaconda3\\lib\\site-packages\\keras\\optimizer_v2\\optimizer_v2.py:355: UserWarning: The `lr` argument is deprecated, use `learning_rate` instead.\n",
      "  warnings.warn(\n"
     ]
    },
    {
     "name": "stdout",
     "output_type": "stream",
     "text": [
      "[CV 3/5; 16/16] END ...............batch_size=200, epochs=70; total time=   5.3s\n",
      "[CV 4/5; 16/16] START batch_size=200, epochs=70.................................\n"
     ]
    },
    {
     "name": "stderr",
     "output_type": "stream",
     "text": [
      "C:\\Users\\dell\\anaconda3\\lib\\site-packages\\keras\\optimizer_v2\\optimizer_v2.py:355: UserWarning: The `lr` argument is deprecated, use `learning_rate` instead.\n",
      "  warnings.warn(\n"
     ]
    },
    {
     "name": "stdout",
     "output_type": "stream",
     "text": [
      "[CV 4/5; 16/16] END ...............batch_size=200, epochs=70; total time=   5.3s\n",
      "[CV 5/5; 16/16] START batch_size=200, epochs=70.................................\n"
     ]
    },
    {
     "name": "stderr",
     "output_type": "stream",
     "text": [
      "C:\\Users\\dell\\anaconda3\\lib\\site-packages\\keras\\optimizer_v2\\optimizer_v2.py:355: UserWarning: The `lr` argument is deprecated, use `learning_rate` instead.\n",
      "  warnings.warn(\n"
     ]
    },
    {
     "name": "stdout",
     "output_type": "stream",
     "text": [
      "[CV 5/5; 16/16] END ...............batch_size=200, epochs=70; total time=   5.7s\n"
     ]
    },
    {
     "data": {
      "text/plain": [
       "GridSearchCV(cv=KFold(n_splits=5, random_state=None, shuffle=False),\n",
       "             estimator=<keras.wrappers.scikit_learn.KerasRegressor object at 0x0000025B517CEE20>,\n",
       "             param_grid={'batch_size': [60, 80, 100, 200],\n",
       "                         'epochs': [20, 40, 50, 70]},\n",
       "             verbose=10)"
      ]
     },
     "execution_count": 20,
     "metadata": {},
     "output_type": "execute_result"
    }
   ],
   "source": [
    "model = KerasRegressor(build_fn = create_model, verbose = 0)\n",
    "\n",
    "batch_size = [60,80,100,200]\n",
    "epochs = [20,40,50,70]\n",
    "\n",
    "param_grid = dict(batch_size = batch_size, epochs = epochs)\n",
    "\n",
    "grid = GridSearchCV(estimator = model, param_grid = param_grid, cv = KFold(), verbose = 10)\n",
    "grid.fit(x_std,y)"
   ]
  },
  {
   "cell_type": "code",
   "execution_count": 21,
   "id": "efd0a52b",
   "metadata": {},
   "outputs": [
    {
     "name": "stdout",
     "output_type": "stream",
     "text": [
      "Best: -17989.6828125 with: {'batch_size': 80, 'epochs': 70}\n",
      "-17989.707421875 889.3237196694458 with : {'batch_size': 60, 'epochs': 20}\n",
      "-17989.6859375 889.3242672072163 with : {'batch_size': 60, 'epochs': 40}\n",
      "-17989.684375 889.3252236904824 with : {'batch_size': 60, 'epochs': 50}\n",
      "-17989.68359375 889.3247462360886 with : {'batch_size': 60, 'epochs': 70}\n",
      "-17989.720703125 889.3177407370006 with : {'batch_size': 80, 'epochs': 20}\n",
      "-17989.691015625 889.3270469916707 with : {'batch_size': 80, 'epochs': 40}\n",
      "-17989.683203125 889.325305805417 with : {'batch_size': 80, 'epochs': 50}\n",
      "-17989.6828125 889.3247768605675 with : {'batch_size': 80, 'epochs': 70}\n",
      "-17989.776171875 889.3153802924443 with : {'batch_size': 100, 'epochs': 20}\n",
      "-17989.701171875 889.3202799524914 with : {'batch_size': 100, 'epochs': 40}\n",
      "-17989.69140625 889.3207225604149 with : {'batch_size': 100, 'epochs': 50}\n",
      "-17989.68359375 889.3263912983267 with : {'batch_size': 100, 'epochs': 70}\n",
      "-17989.933984375 889.2817793350154 with : {'batch_size': 200, 'epochs': 20}\n",
      "-17989.748828125 889.2902977097912 with : {'batch_size': 200, 'epochs': 40}\n",
      "-17989.714453125 889.325315868416 with : {'batch_size': 200, 'epochs': 50}\n",
      "-17989.7015625 889.3328787822601 with : {'batch_size': 200, 'epochs': 70}\n"
     ]
    }
   ],
   "source": [
    "print('Best: {} with: {}'.format(grid.best_score_ , grid.best_params_))\n",
    "\n",
    "means = grid.cv_results_['mean_test_score']\n",
    "std = grid.cv_results_['std_test_score']\n",
    "params = grid.cv_results_['params']\n",
    "\n",
    "for mean,stdev,param in zip(means,std,params):\n",
    "       print('{} {} with : {}'.format(mean,stdev,param))\n",
    "   "
   ]
  },
  {
   "cell_type": "code",
   "execution_count": 23,
   "id": "88ea279b",
   "metadata": {},
   "outputs": [
    {
     "name": "stdout",
     "output_type": "stream",
     "text": [
      "Fitting 3 folds for each of 9 candidates, totalling 27 fits\n",
      "[CV 1/3; 1/9] START dropout_rate=0.1, learning_rate=0.1.........................\n"
     ]
    },
    {
     "name": "stderr",
     "output_type": "stream",
     "text": [
      "C:\\Users\\dell\\anaconda3\\lib\\site-packages\\keras\\optimizer_v2\\optimizer_v2.py:355: UserWarning: The `lr` argument is deprecated, use `learning_rate` instead.\n",
      "  warnings.warn(\n"
     ]
    },
    {
     "name": "stdout",
     "output_type": "stream",
     "text": [
      "[CV 1/3; 1/9] END .......dropout_rate=0.1, learning_rate=0.1; total time=  11.4s\n",
      "[CV 2/3; 1/9] START dropout_rate=0.1, learning_rate=0.1.........................\n"
     ]
    },
    {
     "name": "stderr",
     "output_type": "stream",
     "text": [
      "C:\\Users\\dell\\anaconda3\\lib\\site-packages\\keras\\optimizer_v2\\optimizer_v2.py:355: UserWarning: The `lr` argument is deprecated, use `learning_rate` instead.\n",
      "  warnings.warn(\n"
     ]
    },
    {
     "name": "stdout",
     "output_type": "stream",
     "text": [
      "[CV 2/3; 1/9] END .......dropout_rate=0.1, learning_rate=0.1; total time=  11.8s\n",
      "[CV 3/3; 1/9] START dropout_rate=0.1, learning_rate=0.1.........................\n"
     ]
    },
    {
     "name": "stderr",
     "output_type": "stream",
     "text": [
      "C:\\Users\\dell\\anaconda3\\lib\\site-packages\\keras\\optimizer_v2\\optimizer_v2.py:355: UserWarning: The `lr` argument is deprecated, use `learning_rate` instead.\n",
      "  warnings.warn(\n"
     ]
    },
    {
     "name": "stdout",
     "output_type": "stream",
     "text": [
      "[CV 3/3; 1/9] END .......dropout_rate=0.1, learning_rate=0.1; total time=  11.7s\n",
      "[CV 1/3; 2/9] START dropout_rate=0.1, learning_rate=0.01........................\n"
     ]
    },
    {
     "name": "stderr",
     "output_type": "stream",
     "text": [
      "C:\\Users\\dell\\anaconda3\\lib\\site-packages\\keras\\optimizer_v2\\optimizer_v2.py:355: UserWarning: The `lr` argument is deprecated, use `learning_rate` instead.\n",
      "  warnings.warn(\n"
     ]
    },
    {
     "name": "stdout",
     "output_type": "stream",
     "text": [
      "[CV 1/3; 2/9] END ......dropout_rate=0.1, learning_rate=0.01; total time=  11.8s\n",
      "[CV 2/3; 2/9] START dropout_rate=0.1, learning_rate=0.01........................\n"
     ]
    },
    {
     "name": "stderr",
     "output_type": "stream",
     "text": [
      "C:\\Users\\dell\\anaconda3\\lib\\site-packages\\keras\\optimizer_v2\\optimizer_v2.py:355: UserWarning: The `lr` argument is deprecated, use `learning_rate` instead.\n",
      "  warnings.warn(\n"
     ]
    },
    {
     "name": "stdout",
     "output_type": "stream",
     "text": [
      "[CV 2/3; 2/9] END ......dropout_rate=0.1, learning_rate=0.01; total time=  11.3s\n",
      "[CV 3/3; 2/9] START dropout_rate=0.1, learning_rate=0.01........................\n"
     ]
    },
    {
     "name": "stderr",
     "output_type": "stream",
     "text": [
      "C:\\Users\\dell\\anaconda3\\lib\\site-packages\\keras\\optimizer_v2\\optimizer_v2.py:355: UserWarning: The `lr` argument is deprecated, use `learning_rate` instead.\n",
      "  warnings.warn(\n"
     ]
    },
    {
     "name": "stdout",
     "output_type": "stream",
     "text": [
      "[CV 3/3; 2/9] END ......dropout_rate=0.1, learning_rate=0.01; total time=  11.4s\n",
      "[CV 1/3; 3/9] START dropout_rate=0.1, learning_rate=0.001.......................\n"
     ]
    },
    {
     "name": "stderr",
     "output_type": "stream",
     "text": [
      "C:\\Users\\dell\\anaconda3\\lib\\site-packages\\keras\\optimizer_v2\\optimizer_v2.py:355: UserWarning: The `lr` argument is deprecated, use `learning_rate` instead.\n",
      "  warnings.warn(\n"
     ]
    },
    {
     "name": "stdout",
     "output_type": "stream",
     "text": [
      "[CV 1/3; 3/9] END .....dropout_rate=0.1, learning_rate=0.001; total time=  11.5s\n",
      "[CV 2/3; 3/9] START dropout_rate=0.1, learning_rate=0.001.......................\n"
     ]
    },
    {
     "name": "stderr",
     "output_type": "stream",
     "text": [
      "C:\\Users\\dell\\anaconda3\\lib\\site-packages\\keras\\optimizer_v2\\optimizer_v2.py:355: UserWarning: The `lr` argument is deprecated, use `learning_rate` instead.\n",
      "  warnings.warn(\n"
     ]
    },
    {
     "name": "stdout",
     "output_type": "stream",
     "text": [
      "[CV 2/3; 3/9] END .....dropout_rate=0.1, learning_rate=0.001; total time=  11.6s\n",
      "[CV 3/3; 3/9] START dropout_rate=0.1, learning_rate=0.001.......................\n"
     ]
    },
    {
     "name": "stderr",
     "output_type": "stream",
     "text": [
      "C:\\Users\\dell\\anaconda3\\lib\\site-packages\\keras\\optimizer_v2\\optimizer_v2.py:355: UserWarning: The `lr` argument is deprecated, use `learning_rate` instead.\n",
      "  warnings.warn(\n"
     ]
    },
    {
     "name": "stdout",
     "output_type": "stream",
     "text": [
      "[CV 3/3; 3/9] END .....dropout_rate=0.1, learning_rate=0.001; total time=  11.2s\n",
      "[CV 1/3; 4/9] START dropout_rate=0.2, learning_rate=0.1.........................\n"
     ]
    },
    {
     "name": "stderr",
     "output_type": "stream",
     "text": [
      "C:\\Users\\dell\\anaconda3\\lib\\site-packages\\keras\\optimizer_v2\\optimizer_v2.py:355: UserWarning: The `lr` argument is deprecated, use `learning_rate` instead.\n",
      "  warnings.warn(\n"
     ]
    },
    {
     "name": "stdout",
     "output_type": "stream",
     "text": [
      "[CV 1/3; 4/9] END .......dropout_rate=0.2, learning_rate=0.1; total time=  10.5s\n",
      "[CV 2/3; 4/9] START dropout_rate=0.2, learning_rate=0.1.........................\n"
     ]
    },
    {
     "name": "stderr",
     "output_type": "stream",
     "text": [
      "C:\\Users\\dell\\anaconda3\\lib\\site-packages\\keras\\optimizer_v2\\optimizer_v2.py:355: UserWarning: The `lr` argument is deprecated, use `learning_rate` instead.\n",
      "  warnings.warn(\n"
     ]
    },
    {
     "name": "stdout",
     "output_type": "stream",
     "text": [
      "[CV 2/3; 4/9] END .......dropout_rate=0.2, learning_rate=0.1; total time=  10.6s\n",
      "[CV 3/3; 4/9] START dropout_rate=0.2, learning_rate=0.1.........................\n"
     ]
    },
    {
     "name": "stderr",
     "output_type": "stream",
     "text": [
      "C:\\Users\\dell\\anaconda3\\lib\\site-packages\\keras\\optimizer_v2\\optimizer_v2.py:355: UserWarning: The `lr` argument is deprecated, use `learning_rate` instead.\n",
      "  warnings.warn(\n"
     ]
    },
    {
     "name": "stdout",
     "output_type": "stream",
     "text": [
      "[CV 3/3; 4/9] END .......dropout_rate=0.2, learning_rate=0.1; total time=  10.6s\n",
      "[CV 1/3; 5/9] START dropout_rate=0.2, learning_rate=0.01........................\n"
     ]
    },
    {
     "name": "stderr",
     "output_type": "stream",
     "text": [
      "C:\\Users\\dell\\anaconda3\\lib\\site-packages\\keras\\optimizer_v2\\optimizer_v2.py:355: UserWarning: The `lr` argument is deprecated, use `learning_rate` instead.\n",
      "  warnings.warn(\n"
     ]
    },
    {
     "name": "stdout",
     "output_type": "stream",
     "text": [
      "[CV 1/3; 5/9] END ......dropout_rate=0.2, learning_rate=0.01; total time=  11.3s\n",
      "[CV 2/3; 5/9] START dropout_rate=0.2, learning_rate=0.01........................\n"
     ]
    },
    {
     "name": "stderr",
     "output_type": "stream",
     "text": [
      "C:\\Users\\dell\\anaconda3\\lib\\site-packages\\keras\\optimizer_v2\\optimizer_v2.py:355: UserWarning: The `lr` argument is deprecated, use `learning_rate` instead.\n",
      "  warnings.warn(\n"
     ]
    },
    {
     "name": "stdout",
     "output_type": "stream",
     "text": [
      "[CV 2/3; 5/9] END ......dropout_rate=0.2, learning_rate=0.01; total time=  10.8s\n",
      "[CV 3/3; 5/9] START dropout_rate=0.2, learning_rate=0.01........................\n"
     ]
    },
    {
     "name": "stderr",
     "output_type": "stream",
     "text": [
      "C:\\Users\\dell\\anaconda3\\lib\\site-packages\\keras\\optimizer_v2\\optimizer_v2.py:355: UserWarning: The `lr` argument is deprecated, use `learning_rate` instead.\n",
      "  warnings.warn(\n"
     ]
    },
    {
     "name": "stdout",
     "output_type": "stream",
     "text": [
      "[CV 3/3; 5/9] END ......dropout_rate=0.2, learning_rate=0.01; total time=  10.6s\n",
      "[CV 1/3; 6/9] START dropout_rate=0.2, learning_rate=0.001.......................\n"
     ]
    },
    {
     "name": "stderr",
     "output_type": "stream",
     "text": [
      "C:\\Users\\dell\\anaconda3\\lib\\site-packages\\keras\\optimizer_v2\\optimizer_v2.py:355: UserWarning: The `lr` argument is deprecated, use `learning_rate` instead.\n",
      "  warnings.warn(\n"
     ]
    },
    {
     "name": "stdout",
     "output_type": "stream",
     "text": [
      "[CV 1/3; 6/9] END .....dropout_rate=0.2, learning_rate=0.001; total time=  10.7s\n",
      "[CV 2/3; 6/9] START dropout_rate=0.2, learning_rate=0.001.......................\n"
     ]
    },
    {
     "name": "stderr",
     "output_type": "stream",
     "text": [
      "C:\\Users\\dell\\anaconda3\\lib\\site-packages\\keras\\optimizer_v2\\optimizer_v2.py:355: UserWarning: The `lr` argument is deprecated, use `learning_rate` instead.\n",
      "  warnings.warn(\n"
     ]
    },
    {
     "name": "stdout",
     "output_type": "stream",
     "text": [
      "[CV 2/3; 6/9] END .....dropout_rate=0.2, learning_rate=0.001; total time=  11.7s\n",
      "[CV 3/3; 6/9] START dropout_rate=0.2, learning_rate=0.001.......................\n"
     ]
    },
    {
     "name": "stderr",
     "output_type": "stream",
     "text": [
      "C:\\Users\\dell\\anaconda3\\lib\\site-packages\\keras\\optimizer_v2\\optimizer_v2.py:355: UserWarning: The `lr` argument is deprecated, use `learning_rate` instead.\n",
      "  warnings.warn(\n"
     ]
    },
    {
     "name": "stdout",
     "output_type": "stream",
     "text": [
      "[CV 3/3; 6/9] END .....dropout_rate=0.2, learning_rate=0.001; total time=  11.2s\n",
      "[CV 1/3; 7/9] START dropout_rate=0.5, learning_rate=0.1.........................\n"
     ]
    },
    {
     "name": "stderr",
     "output_type": "stream",
     "text": [
      "C:\\Users\\dell\\anaconda3\\lib\\site-packages\\keras\\optimizer_v2\\optimizer_v2.py:355: UserWarning: The `lr` argument is deprecated, use `learning_rate` instead.\n",
      "  warnings.warn(\n"
     ]
    },
    {
     "name": "stdout",
     "output_type": "stream",
     "text": [
      "[CV 1/3; 7/9] END .......dropout_rate=0.5, learning_rate=0.1; total time=  11.1s\n",
      "[CV 2/3; 7/9] START dropout_rate=0.5, learning_rate=0.1.........................\n"
     ]
    },
    {
     "name": "stderr",
     "output_type": "stream",
     "text": [
      "C:\\Users\\dell\\anaconda3\\lib\\site-packages\\keras\\optimizer_v2\\optimizer_v2.py:355: UserWarning: The `lr` argument is deprecated, use `learning_rate` instead.\n",
      "  warnings.warn(\n"
     ]
    },
    {
     "name": "stdout",
     "output_type": "stream",
     "text": [
      "[CV 2/3; 7/9] END .......dropout_rate=0.5, learning_rate=0.1; total time=  10.4s\n",
      "[CV 3/3; 7/9] START dropout_rate=0.5, learning_rate=0.1.........................\n"
     ]
    },
    {
     "name": "stderr",
     "output_type": "stream",
     "text": [
      "C:\\Users\\dell\\anaconda3\\lib\\site-packages\\keras\\optimizer_v2\\optimizer_v2.py:355: UserWarning: The `lr` argument is deprecated, use `learning_rate` instead.\n",
      "  warnings.warn(\n"
     ]
    },
    {
     "name": "stdout",
     "output_type": "stream",
     "text": [
      "[CV 3/3; 7/9] END .......dropout_rate=0.5, learning_rate=0.1; total time=  10.4s\n",
      "[CV 1/3; 8/9] START dropout_rate=0.5, learning_rate=0.01........................\n"
     ]
    },
    {
     "name": "stderr",
     "output_type": "stream",
     "text": [
      "C:\\Users\\dell\\anaconda3\\lib\\site-packages\\keras\\optimizer_v2\\optimizer_v2.py:355: UserWarning: The `lr` argument is deprecated, use `learning_rate` instead.\n",
      "  warnings.warn(\n"
     ]
    },
    {
     "name": "stdout",
     "output_type": "stream",
     "text": [
      "[CV 1/3; 8/9] END ......dropout_rate=0.5, learning_rate=0.01; total time=  10.7s\n",
      "[CV 2/3; 8/9] START dropout_rate=0.5, learning_rate=0.01........................\n"
     ]
    },
    {
     "name": "stderr",
     "output_type": "stream",
     "text": [
      "C:\\Users\\dell\\anaconda3\\lib\\site-packages\\keras\\optimizer_v2\\optimizer_v2.py:355: UserWarning: The `lr` argument is deprecated, use `learning_rate` instead.\n",
      "  warnings.warn(\n"
     ]
    },
    {
     "name": "stdout",
     "output_type": "stream",
     "text": [
      "[CV 2/3; 8/9] END ......dropout_rate=0.5, learning_rate=0.01; total time=  10.4s\n",
      "[CV 3/3; 8/9] START dropout_rate=0.5, learning_rate=0.01........................\n"
     ]
    },
    {
     "name": "stderr",
     "output_type": "stream",
     "text": [
      "C:\\Users\\dell\\anaconda3\\lib\\site-packages\\keras\\optimizer_v2\\optimizer_v2.py:355: UserWarning: The `lr` argument is deprecated, use `learning_rate` instead.\n",
      "  warnings.warn(\n"
     ]
    },
    {
     "name": "stdout",
     "output_type": "stream",
     "text": [
      "[CV 3/3; 8/9] END ......dropout_rate=0.5, learning_rate=0.01; total time=  10.6s\n",
      "[CV 1/3; 9/9] START dropout_rate=0.5, learning_rate=0.001.......................\n"
     ]
    },
    {
     "name": "stderr",
     "output_type": "stream",
     "text": [
      "C:\\Users\\dell\\anaconda3\\lib\\site-packages\\keras\\optimizer_v2\\optimizer_v2.py:355: UserWarning: The `lr` argument is deprecated, use `learning_rate` instead.\n",
      "  warnings.warn(\n"
     ]
    },
    {
     "name": "stdout",
     "output_type": "stream",
     "text": [
      "[CV 1/3; 9/9] END .....dropout_rate=0.5, learning_rate=0.001; total time=  11.0s\n",
      "[CV 2/3; 9/9] START dropout_rate=0.5, learning_rate=0.001.......................\n"
     ]
    },
    {
     "name": "stderr",
     "output_type": "stream",
     "text": [
      "C:\\Users\\dell\\anaconda3\\lib\\site-packages\\keras\\optimizer_v2\\optimizer_v2.py:355: UserWarning: The `lr` argument is deprecated, use `learning_rate` instead.\n",
      "  warnings.warn(\n"
     ]
    },
    {
     "name": "stdout",
     "output_type": "stream",
     "text": [
      "[CV 2/3; 9/9] END .....dropout_rate=0.5, learning_rate=0.001; total time=  10.4s\n",
      "[CV 3/3; 9/9] START dropout_rate=0.5, learning_rate=0.001.......................\n"
     ]
    },
    {
     "name": "stderr",
     "output_type": "stream",
     "text": [
      "C:\\Users\\dell\\anaconda3\\lib\\site-packages\\keras\\optimizer_v2\\optimizer_v2.py:355: UserWarning: The `lr` argument is deprecated, use `learning_rate` instead.\n",
      "  warnings.warn(\n"
     ]
    },
    {
     "name": "stdout",
     "output_type": "stream",
     "text": [
      "[CV 3/3; 9/9] END .....dropout_rate=0.5, learning_rate=0.001; total time=  10.8s\n"
     ]
    },
    {
     "data": {
      "text/plain": [
       "GridSearchCV(cv=KFold(n_splits=3, random_state=None, shuffle=False),\n",
       "             estimator=<keras.wrappers.scikit_learn.KerasRegressor object at 0x0000025B58B51DF0>,\n",
       "             param_grid={'dropout_rate': [0.1, 0.2, 0.5],\n",
       "                         'learning_rate': [0.1, 0.01, 0.001]},\n",
       "             verbose=10)"
      ]
     },
     "execution_count": 23,
     "metadata": {},
     "output_type": "execute_result"
    }
   ],
   "source": [
    "from keras.layers import Dropout\n",
    "\n",
    "def create_model(learning_rate,dropout_rate):\n",
    "    model = Sequential()\n",
    "    model.add(Dense(8,input_dim = 10,kernel_initializer = 'uniform', activation = 'relu'))\n",
    "    model.add(Dropout(dropout_rate))\n",
    "    model.add(Dense(5,kernel_initializer = 'uniform', activation = 'relu'))\n",
    "    model.add(Dropout(dropout_rate))\n",
    "    model.add(Dense(1,kernel_initializer = 'uniform', activation = 'sigmoid'))\n",
    "    \n",
    "    adam = Adam(lr = learning_rate)\n",
    "    model.compile(loss = 'mean_squared_error', optimizer = 'adam', metrics = ['accuracy'])\n",
    "    return model\n",
    "\n",
    "model = KerasRegressor(build_fn = create_model,batch_size = 80, epochs = 70, verbose = 0)\n",
    "\n",
    "dropout_rate = [0.1,0.2,0.5]\n",
    "learning_rate = [0.1,0.01,0.001]\n",
    "\n",
    "param_grid = dict(dropout_rate = dropout_rate, learning_rate = learning_rate)\n",
    "\n",
    "grid = GridSearchCV(estimator = model, param_grid = param_grid, cv = KFold(n_splits = 3), verbose = 10)\n",
    "grid.fit(x_std,y)"
   ]
  },
  {
   "cell_type": "code",
   "execution_count": 26,
   "id": "e2fe3576",
   "metadata": {},
   "outputs": [
    {
     "name": "stdout",
     "output_type": "stream",
     "text": [
      "Best: -17989.729166666668 with: {'dropout_rate': 0.1, 'learning_rate': 0.001}\n",
      "-17989.729817708332 634.3918123676842 with : {'dropout_rate': 0.1, 'learning_rate': 0.1}\n",
      "-17989.73046875 634.3915781485131 with : {'dropout_rate': 0.1, 'learning_rate': 0.01}\n",
      "-17989.729166666668 634.3920465881051 with : {'dropout_rate': 0.1, 'learning_rate': 0.001}\n",
      "-17989.729166666668 634.3920465881051 with : {'dropout_rate': 0.2, 'learning_rate': 0.1}\n",
      "-17989.729166666668 634.3920465881051 with : {'dropout_rate': 0.2, 'learning_rate': 0.01}\n",
      "-17989.729166666668 634.3920465881051 with : {'dropout_rate': 0.2, 'learning_rate': 0.001}\n",
      "-17989.729166666668 634.3920465881051 with : {'dropout_rate': 0.5, 'learning_rate': 0.1}\n",
      "-17989.729166666668 634.3920465881051 with : {'dropout_rate': 0.5, 'learning_rate': 0.01}\n",
      "-17989.729166666668 634.3920465881051 with : {'dropout_rate': 0.5, 'learning_rate': 0.001}\n"
     ]
    }
   ],
   "source": [
    "print('Best: {} with: {}'.format(grid.best_score_ , grid.best_params_))\n",
    "\n",
    "means = grid.cv_results_['mean_test_score']\n",
    "std = grid.cv_results_['std_test_score']\n",
    "params = grid.cv_results_['params']\n",
    "\n",
    "for mean,stdev,param in zip(means,std,params):\n",
    "       print('{} {} with : {}'.format(mean,stdev,param))\n",
    "   "
   ]
  },
  {
   "cell_type": "code",
   "execution_count": 27,
   "id": "667094f9",
   "metadata": {},
   "outputs": [
    {
     "name": "stdout",
     "output_type": "stream",
     "text": [
      "Fitting 3 folds for each of 15 candidates, totalling 45 fits\n",
      "[CV 1/3; 1/15] START activation_function=relu, init=uniform.....................\n",
      "[CV 1/3; 1/15] END ...activation_function=relu, init=uniform; total time=  11.0s\n",
      "[CV 2/3; 1/15] START activation_function=relu, init=uniform.....................\n",
      "[CV 2/3; 1/15] END ...activation_function=relu, init=uniform; total time=  10.8s\n",
      "[CV 3/3; 1/15] START activation_function=relu, init=uniform.....................\n",
      "[CV 3/3; 1/15] END ...activation_function=relu, init=uniform; total time=  10.5s\n",
      "[CV 1/3; 2/15] START activation_function=relu, init=normal......................\n",
      "[CV 1/3; 2/15] END ....activation_function=relu, init=normal; total time=  12.4s\n",
      "[CV 2/3; 2/15] START activation_function=relu, init=normal......................\n",
      "[CV 2/3; 2/15] END ....activation_function=relu, init=normal; total time=  16.4s\n",
      "[CV 3/3; 2/15] START activation_function=relu, init=normal......................\n",
      "[CV 3/3; 2/15] END ....activation_function=relu, init=normal; total time=  13.9s\n",
      "[CV 1/3; 3/15] START activation_function=relu, init=zero........................\n",
      "[CV 1/3; 3/15] END ......activation_function=relu, init=zero; total time=  15.0s\n",
      "[CV 2/3; 3/15] START activation_function=relu, init=zero........................\n",
      "[CV 2/3; 3/15] END ......activation_function=relu, init=zero; total time=  11.8s\n",
      "[CV 3/3; 3/15] START activation_function=relu, init=zero........................\n",
      "[CV 3/3; 3/15] END ......activation_function=relu, init=zero; total time=  12.0s\n",
      "[CV 1/3; 4/15] START activation_function=maxout, init=uniform...................\n",
      "[CV 1/3; 4/15] END .activation_function=maxout, init=uniform; total time=   0.0s\n",
      "[CV 2/3; 4/15] START activation_function=maxout, init=uniform...................\n",
      "[CV 2/3; 4/15] END .activation_function=maxout, init=uniform; total time=   0.0s\n",
      "[CV 3/3; 4/15] START activation_function=maxout, init=uniform...................\n",
      "[CV 3/3; 4/15] END .activation_function=maxout, init=uniform; total time=   0.0s\n",
      "[CV 1/3; 5/15] START activation_function=maxout, init=normal....................\n",
      "[CV 1/3; 5/15] END ..activation_function=maxout, init=normal; total time=   0.0s\n",
      "[CV 2/3; 5/15] START activation_function=maxout, init=normal....................\n",
      "[CV 2/3; 5/15] END ..activation_function=maxout, init=normal; total time=   0.0s\n",
      "[CV 3/3; 5/15] START activation_function=maxout, init=normal....................\n",
      "[CV 3/3; 5/15] END ..activation_function=maxout, init=normal; total time=   0.0s\n",
      "[CV 1/3; 6/15] START activation_function=maxout, init=zero......................\n",
      "[CV 1/3; 6/15] END ....activation_function=maxout, init=zero; total time=   0.0s\n",
      "[CV 2/3; 6/15] START activation_function=maxout, init=zero......................\n",
      "[CV 2/3; 6/15] END ....activation_function=maxout, init=zero; total time=   0.0s\n",
      "[CV 3/3; 6/15] START activation_function=maxout, init=zero......................\n",
      "[CV 3/3; 6/15] END ....activation_function=maxout, init=zero; total time=   0.0s\n",
      "[CV 1/3; 7/15] START activation_function=elu, init=uniform......................\n",
      "[CV 1/3; 7/15] END ....activation_function=elu, init=uniform; total time=  13.0s\n",
      "[CV 2/3; 7/15] START activation_function=elu, init=uniform......................\n",
      "[CV 2/3; 7/15] END ....activation_function=elu, init=uniform; total time=  13.5s\n",
      "[CV 3/3; 7/15] START activation_function=elu, init=uniform......................\n",
      "[CV 3/3; 7/15] END ....activation_function=elu, init=uniform; total time=  13.4s\n",
      "[CV 1/3; 8/15] START activation_function=elu, init=normal.......................\n",
      "[CV 1/3; 8/15] END .....activation_function=elu, init=normal; total time=  18.0s\n",
      "[CV 2/3; 8/15] START activation_function=elu, init=normal.......................\n",
      "[CV 2/3; 8/15] END .....activation_function=elu, init=normal; total time=  17.6s\n",
      "[CV 3/3; 8/15] START activation_function=elu, init=normal.......................\n",
      "[CV 3/3; 8/15] END .....activation_function=elu, init=normal; total time=  16.2s\n",
      "[CV 1/3; 9/15] START activation_function=elu, init=zero.........................\n",
      "[CV 1/3; 9/15] END .......activation_function=elu, init=zero; total time=  13.2s\n",
      "[CV 2/3; 9/15] START activation_function=elu, init=zero.........................\n",
      "[CV 2/3; 9/15] END .......activation_function=elu, init=zero; total time=  16.6s\n",
      "[CV 3/3; 9/15] START activation_function=elu, init=zero.........................\n",
      "[CV 3/3; 9/15] END .......activation_function=elu, init=zero; total time=  14.0s\n",
      "[CV 1/3; 10/15] START activation_function=tanh, init=uniform....................\n",
      "[CV 1/3; 10/15] END ..activation_function=tanh, init=uniform; total time=  13.8s\n",
      "[CV 2/3; 10/15] START activation_function=tanh, init=uniform....................\n",
      "[CV 2/3; 10/15] END ..activation_function=tanh, init=uniform; total time=  13.4s\n",
      "[CV 3/3; 10/15] START activation_function=tanh, init=uniform....................\n",
      "[CV 3/3; 10/15] END ..activation_function=tanh, init=uniform; total time=  14.9s\n",
      "[CV 1/3; 11/15] START activation_function=tanh, init=normal.....................\n",
      "[CV 1/3; 11/15] END ...activation_function=tanh, init=normal; total time=  12.5s\n",
      "[CV 2/3; 11/15] START activation_function=tanh, init=normal.....................\n",
      "[CV 2/3; 11/15] END ...activation_function=tanh, init=normal; total time=  13.0s\n",
      "[CV 3/3; 11/15] START activation_function=tanh, init=normal.....................\n",
      "[CV 3/3; 11/15] END ...activation_function=tanh, init=normal; total time=  14.9s\n",
      "[CV 1/3; 12/15] START activation_function=tanh, init=zero.......................\n",
      "[CV 1/3; 12/15] END .....activation_function=tanh, init=zero; total time=  20.9s\n",
      "[CV 2/3; 12/15] START activation_function=tanh, init=zero.......................\n",
      "[CV 2/3; 12/15] END .....activation_function=tanh, init=zero; total time=  18.4s\n",
      "[CV 3/3; 12/15] START activation_function=tanh, init=zero.......................\n",
      "[CV 3/3; 12/15] END .....activation_function=tanh, init=zero; total time=  13.1s\n",
      "[CV 1/3; 13/15] START activation_function=sigmoid, init=uniform.................\n",
      "[CV 1/3; 13/15] END activation_function=sigmoid, init=uniform; total time=  11.8s\n",
      "[CV 2/3; 13/15] START activation_function=sigmoid, init=uniform.................\n",
      "[CV 2/3; 13/15] END activation_function=sigmoid, init=uniform; total time=  12.0s\n",
      "[CV 3/3; 13/15] START activation_function=sigmoid, init=uniform.................\n",
      "[CV 3/3; 13/15] END activation_function=sigmoid, init=uniform; total time=  12.0s\n",
      "[CV 1/3; 14/15] START activation_function=sigmoid, init=normal..................\n",
      "[CV 1/3; 14/15] END activation_function=sigmoid, init=normal; total time=  12.9s\n",
      "[CV 2/3; 14/15] START activation_function=sigmoid, init=normal..................\n",
      "[CV 2/3; 14/15] END activation_function=sigmoid, init=normal; total time=  12.2s\n",
      "[CV 3/3; 14/15] START activation_function=sigmoid, init=normal..................\n",
      "[CV 3/3; 14/15] END activation_function=sigmoid, init=normal; total time=  15.0s\n",
      "[CV 1/3; 15/15] START activation_function=sigmoid, init=zero....................\n",
      "[CV 1/3; 15/15] END ..activation_function=sigmoid, init=zero; total time=  13.7s\n",
      "[CV 2/3; 15/15] START activation_function=sigmoid, init=zero....................\n",
      "[CV 2/3; 15/15] END ..activation_function=sigmoid, init=zero; total time=  11.6s\n",
      "[CV 3/3; 15/15] START activation_function=sigmoid, init=zero....................\n",
      "[CV 3/3; 15/15] END ..activation_function=sigmoid, init=zero; total time=  11.6s\n"
     ]
    },
    {
     "data": {
      "text/plain": [
       "GridSearchCV(cv=KFold(n_splits=3, random_state=None, shuffle=False),\n",
       "             estimator=<keras.wrappers.scikit_learn.KerasRegressor object at 0x0000025B55601B20>,\n",
       "             param_grid={'activation_function': ['relu', 'maxout', 'elu',\n",
       "                                                 'tanh', 'sigmoid'],\n",
       "                         'init': ['uniform', 'normal', 'zero']},\n",
       "             verbose=10)"
      ]
     },
     "execution_count": 27,
     "metadata": {},
     "output_type": "execute_result"
    }
   ],
   "source": [
    "from keras.layers import Dropout\n",
    "\n",
    "def create_model(activation_function,init):\n",
    "    model = Sequential()\n",
    "    model.add(Dense(8,input_dim = 10,kernel_initializer = init, activation = activation_function))\n",
    "    model.add(Dropout(0.1))\n",
    "    model.add(Dense(5,kernel_initializer = init, activation = activation_function))\n",
    "    model.add(Dropout(0.1))\n",
    "    model.add(Dense(1,kernel_initializer = 'uniform', activation = 'sigmoid'))\n",
    "    \n",
    "    adam = Adam(lr = 0.001)\n",
    "    model.compile(loss = 'mean_squared_error', optimizer = 'adam', metrics = ['accuracy'])\n",
    "    return model\n",
    "\n",
    "model = KerasRegressor(build_fn = create_model,batch_size = 80, epochs = 70, verbose = 0)\n",
    "\n",
    "activation_function = ['relu','maxout','elu','tanh','sigmoid']\n",
    "init = ['uniform','normal','zero']\n",
    "\n",
    "param_grid = dict(activation_function = activation_function, init = init)\n",
    "\n",
    "grid = GridSearchCV(estimator = model, param_grid = param_grid, cv = KFold(n_splits = 3), verbose = 10)\n",
    "grid.fit(x_std,y)"
   ]
  },
  {
   "cell_type": "code",
   "execution_count": 28,
   "id": "691ae2e0",
   "metadata": {},
   "outputs": [
    {
     "name": "stdout",
     "output_type": "stream",
     "text": [
      "Best: -17989.729166666668 with: {'activation_function': 'relu', 'init': 'normal'}\n",
      "-17989.729817708332 634.3918123676842 with : {'activation_function': 'relu', 'init': 'uniform'}\n",
      "-17989.729166666668 634.3920465881051 with : {'activation_function': 'relu', 'init': 'normal'}\n",
      "-17991.259765625 634.421446741094 with : {'activation_function': 'relu', 'init': 'zero'}\n",
      "nan nan with : {'activation_function': 'maxout', 'init': 'uniform'}\n",
      "nan nan with : {'activation_function': 'maxout', 'init': 'normal'}\n",
      "nan nan with : {'activation_function': 'maxout', 'init': 'zero'}\n",
      "-17989.729166666668 634.3920465881051 with : {'activation_function': 'elu', 'init': 'uniform'}\n",
      "-17989.729166666668 634.3920465881051 with : {'activation_function': 'elu', 'init': 'normal'}\n",
      "-17989.73046875 634.3911583497184 with : {'activation_function': 'elu', 'init': 'zero'}\n",
      "-17989.739583333332 634.3925150326963 with : {'activation_function': 'tanh', 'init': 'uniform'}\n",
      "-17989.739583333332 634.3925150326963 with : {'activation_function': 'tanh', 'init': 'normal'}\n",
      "-17989.738932291668 634.3931690485955 with : {'activation_function': 'tanh', 'init': 'zero'}\n",
      "-17989.748046875 634.3922808097758 with : {'activation_function': 'sigmoid', 'init': 'uniform'}\n",
      "-17989.748046875 634.3922808097758 with : {'activation_function': 'sigmoid', 'init': 'normal'}\n",
      "-17989.748046875 634.3922808097758 with : {'activation_function': 'sigmoid', 'init': 'zero'}\n"
     ]
    }
   ],
   "source": [
    "print('Best: {} with: {}'.format(grid.best_score_ , grid.best_params_))\n",
    "\n",
    "means = grid.cv_results_['mean_test_score']\n",
    "std = grid.cv_results_['std_test_score']\n",
    "params = grid.cv_results_['params']\n",
    "\n",
    "for mean,stdev,param in zip(means,std,params):\n",
    "       print('{} {} with : {}'.format(mean,stdev,param))\n",
    "   "
   ]
  },
  {
   "cell_type": "code",
   "execution_count": 29,
   "id": "3a9ae1c4",
   "metadata": {},
   "outputs": [
    {
     "name": "stdout",
     "output_type": "stream",
     "text": [
      "Fitting 5 folds for each of 9 candidates, totalling 45 fits\n",
      "[CV 1/5; 1/9] START neuron1=5, neuron2=2........................................\n",
      "[CV 1/5; 1/9] END ......................neuron1=5, neuron2=2; total time=  15.2s\n",
      "[CV 2/5; 1/9] START neuron1=5, neuron2=2........................................\n",
      "[CV 2/5; 1/9] END ......................neuron1=5, neuron2=2; total time=  16.7s\n",
      "[CV 3/5; 1/9] START neuron1=5, neuron2=2........................................\n",
      "[CV 3/5; 1/9] END ......................neuron1=5, neuron2=2; total time=  16.8s\n",
      "[CV 4/5; 1/9] START neuron1=5, neuron2=2........................................\n",
      "[CV 4/5; 1/9] END ......................neuron1=5, neuron2=2; total time=  24.5s\n",
      "[CV 5/5; 1/9] START neuron1=5, neuron2=2........................................\n",
      "[CV 5/5; 1/9] END ......................neuron1=5, neuron2=2; total time=  15.3s\n",
      "[CV 1/5; 2/9] START neuron1=5, neuron2=3........................................\n",
      "[CV 1/5; 2/9] END ......................neuron1=5, neuron2=3; total time=  18.3s\n",
      "[CV 2/5; 2/9] START neuron1=5, neuron2=3........................................\n",
      "[CV 2/5; 2/9] END ......................neuron1=5, neuron2=3; total time=  15.2s\n",
      "[CV 3/5; 2/9] START neuron1=5, neuron2=3........................................\n",
      "[CV 3/5; 2/9] END ......................neuron1=5, neuron2=3; total time=  15.7s\n",
      "[CV 4/5; 2/9] START neuron1=5, neuron2=3........................................\n",
      "[CV 4/5; 2/9] END ......................neuron1=5, neuron2=3; total time=  16.2s\n",
      "[CV 5/5; 2/9] START neuron1=5, neuron2=3........................................\n",
      "[CV 5/5; 2/9] END ......................neuron1=5, neuron2=3; total time=  16.3s\n",
      "[CV 1/5; 3/9] START neuron1=5, neuron2=5........................................\n",
      "[CV 1/5; 3/9] END ......................neuron1=5, neuron2=5; total time=  15.7s\n",
      "[CV 2/5; 3/9] START neuron1=5, neuron2=5........................................\n",
      "[CV 2/5; 3/9] END ......................neuron1=5, neuron2=5; total time=  14.4s\n",
      "[CV 3/5; 3/9] START neuron1=5, neuron2=5........................................\n",
      "[CV 3/5; 3/9] END ......................neuron1=5, neuron2=5; total time=  16.4s\n",
      "[CV 4/5; 3/9] START neuron1=5, neuron2=5........................................\n",
      "[CV 4/5; 3/9] END ......................neuron1=5, neuron2=5; total time=  15.0s\n",
      "[CV 5/5; 3/9] START neuron1=5, neuron2=5........................................\n",
      "[CV 5/5; 3/9] END ......................neuron1=5, neuron2=5; total time=  14.8s\n",
      "[CV 1/5; 4/9] START neuron1=8, neuron2=2........................................\n",
      "[CV 1/5; 4/9] END ......................neuron1=8, neuron2=2; total time=  14.4s\n",
      "[CV 2/5; 4/9] START neuron1=8, neuron2=2........................................\n",
      "[CV 2/5; 4/9] END ......................neuron1=8, neuron2=2; total time=  15.2s\n",
      "[CV 3/5; 4/9] START neuron1=8, neuron2=2........................................\n",
      "[CV 3/5; 4/9] END ......................neuron1=8, neuron2=2; total time=  14.4s\n",
      "[CV 4/5; 4/9] START neuron1=8, neuron2=2........................................\n",
      "[CV 4/5; 4/9] END ......................neuron1=8, neuron2=2; total time=  14.6s\n",
      "[CV 5/5; 4/9] START neuron1=8, neuron2=2........................................\n",
      "[CV 5/5; 4/9] END ......................neuron1=8, neuron2=2; total time=  21.9s\n",
      "[CV 1/5; 5/9] START neuron1=8, neuron2=3........................................\n",
      "[CV 1/5; 5/9] END ......................neuron1=8, neuron2=3; total time=  15.4s\n",
      "[CV 2/5; 5/9] START neuron1=8, neuron2=3........................................\n",
      "[CV 2/5; 5/9] END ......................neuron1=8, neuron2=3; total time=  18.3s\n",
      "[CV 3/5; 5/9] START neuron1=8, neuron2=3........................................\n",
      "[CV 3/5; 5/9] END ......................neuron1=8, neuron2=3; total time=  20.6s\n",
      "[CV 4/5; 5/9] START neuron1=8, neuron2=3........................................\n",
      "[CV 4/5; 5/9] END ......................neuron1=8, neuron2=3; total time=  17.6s\n",
      "[CV 5/5; 5/9] START neuron1=8, neuron2=3........................................\n",
      "[CV 5/5; 5/9] END ......................neuron1=8, neuron2=3; total time=  33.1s\n",
      "[CV 1/5; 6/9] START neuron1=8, neuron2=5........................................\n",
      "[CV 1/5; 6/9] END ......................neuron1=8, neuron2=5; total time=  17.1s\n",
      "[CV 2/5; 6/9] START neuron1=8, neuron2=5........................................\n",
      "[CV 2/5; 6/9] END ......................neuron1=8, neuron2=5; total time=  18.2s\n",
      "[CV 3/5; 6/9] START neuron1=8, neuron2=5........................................\n",
      "[CV 3/5; 6/9] END ......................neuron1=8, neuron2=5; total time=  16.7s\n",
      "[CV 4/5; 6/9] START neuron1=8, neuron2=5........................................\n",
      "[CV 4/5; 6/9] END ......................neuron1=8, neuron2=5; total time=  17.4s\n",
      "[CV 5/5; 6/9] START neuron1=8, neuron2=5........................................\n",
      "[CV 5/5; 6/9] END ......................neuron1=8, neuron2=5; total time=  18.2s\n",
      "[CV 1/5; 7/9] START neuron1=10, neuron2=2.......................................\n",
      "[CV 1/5; 7/9] END .....................neuron1=10, neuron2=2; total time=  19.6s\n",
      "[CV 2/5; 7/9] START neuron1=10, neuron2=2.......................................\n",
      "[CV 2/5; 7/9] END .....................neuron1=10, neuron2=2; total time=  18.9s\n",
      "[CV 3/5; 7/9] START neuron1=10, neuron2=2.......................................\n",
      "[CV 3/5; 7/9] END .....................neuron1=10, neuron2=2; total time=  19.5s\n",
      "[CV 4/5; 7/9] START neuron1=10, neuron2=2.......................................\n",
      "[CV 4/5; 7/9] END .....................neuron1=10, neuron2=2; total time=  28.7s\n",
      "[CV 5/5; 7/9] START neuron1=10, neuron2=2.......................................\n",
      "[CV 5/5; 7/9] END .....................neuron1=10, neuron2=2; total time=  20.5s\n",
      "[CV 1/5; 8/9] START neuron1=10, neuron2=3.......................................\n",
      "[CV 1/5; 8/9] END .....................neuron1=10, neuron2=3; total time=  21.5s\n",
      "[CV 2/5; 8/9] START neuron1=10, neuron2=3.......................................\n",
      "[CV 2/5; 8/9] END .....................neuron1=10, neuron2=3; total time=  17.8s\n",
      "[CV 3/5; 8/9] START neuron1=10, neuron2=3.......................................\n",
      "[CV 3/5; 8/9] END .....................neuron1=10, neuron2=3; total time=  17.3s\n",
      "[CV 4/5; 8/9] START neuron1=10, neuron2=3.......................................\n",
      "[CV 4/5; 8/9] END .....................neuron1=10, neuron2=3; total time=  16.8s\n",
      "[CV 5/5; 8/9] START neuron1=10, neuron2=3.......................................\n",
      "[CV 5/5; 8/9] END .....................neuron1=10, neuron2=3; total time=  15.5s\n",
      "[CV 1/5; 9/9] START neuron1=10, neuron2=5.......................................\n",
      "[CV 1/5; 9/9] END .....................neuron1=10, neuron2=5; total time=  18.1s\n",
      "[CV 2/5; 9/9] START neuron1=10, neuron2=5.......................................\n",
      "[CV 2/5; 9/9] END .....................neuron1=10, neuron2=5; total time=  18.2s\n",
      "[CV 3/5; 9/9] START neuron1=10, neuron2=5.......................................\n",
      "[CV 3/5; 9/9] END .....................neuron1=10, neuron2=5; total time=54.0min\n",
      "[CV 4/5; 9/9] START neuron1=10, neuron2=5.......................................\n",
      "[CV 4/5; 9/9] END .....................neuron1=10, neuron2=5; total time=  19.2s\n",
      "[CV 5/5; 9/9] START neuron1=10, neuron2=5.......................................\n",
      "[CV 5/5; 9/9] END .....................neuron1=10, neuron2=5; total time=  16.0s\n"
     ]
    },
    {
     "data": {
      "text/plain": [
       "GridSearchCV(cv=KFold(n_splits=5, random_state=None, shuffle=False),\n",
       "             estimator=<keras.wrappers.scikit_learn.KerasRegressor object at 0x0000025B517CE6A0>,\n",
       "             param_grid={'neuron1': [5, 8, 10], 'neuron2': [2, 3, 5]},\n",
       "             verbose=10)"
      ]
     },
     "execution_count": 29,
     "metadata": {},
     "output_type": "execute_result"
    }
   ],
   "source": [
    "def create_model(neuron1,neuron2):\n",
    "    model = Sequential()\n",
    "    model.add(Dense(8,input_dim = 10,kernel_initializer = 'normal', activation = 'relu'))\n",
    "    model.add(Dropout(0.1))\n",
    "    model.add(Dense(5,kernel_initializer = 'normal', activation = 'relu'))\n",
    "    model.add(Dropout(0.1))\n",
    "    model.add(Dense(1,kernel_initializer = 'normal', activation = 'relu'))\n",
    "    \n",
    "    adam = Adam(lr = 0.001)\n",
    "    model.compile(loss = 'mean_squared_error', optimizer = 'adam', metrics = ['accuracy'])\n",
    "    return model\n",
    "\n",
    "model = KerasRegressor(build_fn = create_model,batch_size = 80, epochs = 70, verbose = 0)\n",
    "\n",
    "neuron1 = [5,8,10]\n",
    "neuron2 = [2,3,5]\n",
    "\n",
    "param_grid = dict(neuron1 = neuron1, neuron2 = neuron2)\n",
    "\n",
    "grid = GridSearchCV(estimator = model, param_grid = param_grid, cv = KFold(), verbose = 10)\n",
    "grid.fit(x_std,y)"
   ]
  },
  {
   "cell_type": "code",
   "execution_count": 30,
   "id": "040c82bd",
   "metadata": {},
   "outputs": [
    {
     "name": "stdout",
     "output_type": "stream",
     "text": [
      "Best: -21.942050743103028 with: {'neuron1': 5, 'neuron2': 3}\n",
      "-27.229804039001465 10.107050659510206 with : {'neuron1': 5, 'neuron2': 2}\n",
      "-21.942050743103028 5.660285070702452 with : {'neuron1': 5, 'neuron2': 3}\n",
      "-26.292909812927245 17.579312282466496 with : {'neuron1': 5, 'neuron2': 5}\n",
      "-36.483469772338864 18.69954952929471 with : {'neuron1': 8, 'neuron2': 2}\n",
      "-40.7997859954834 21.744715883452074 with : {'neuron1': 8, 'neuron2': 3}\n",
      "-32.69264221191406 12.057524251471028 with : {'neuron1': 8, 'neuron2': 5}\n",
      "-29.592889976501464 25.67347548279201 with : {'neuron1': 10, 'neuron2': 2}\n",
      "-26.6013032913208 11.242729592364155 with : {'neuron1': 10, 'neuron2': 3}\n",
      "-26.742595291137697 8.660256660729049 with : {'neuron1': 10, 'neuron2': 5}\n"
     ]
    }
   ],
   "source": [
    "print('Best: {} with: {}'.format(grid.best_score_ , grid.best_params_))\n",
    "\n",
    "means = grid.cv_results_['mean_test_score']\n",
    "std = grid.cv_results_['std_test_score']\n",
    "params = grid.cv_results_['params']\n",
    "\n",
    "for mean,stdev,param in zip(means,std,params):\n",
    "       print('{} {} with : {}'.format(mean,stdev,param))\n",
    "   "
   ]
  },
  {
   "cell_type": "code",
   "execution_count": 40,
   "id": "04a43c74",
   "metadata": {},
   "outputs": [],
   "source": [
    "from sklearn.model_selection import train_test_split"
   ]
  },
  {
   "cell_type": "code",
   "execution_count": 73,
   "id": "795d7b2b",
   "metadata": {},
   "outputs": [],
   "source": [
    "x_train,x_test,y_train,y_test = train_test_split(x,y,test_size = 0.2, random_state = 101)"
   ]
  },
  {
   "cell_type": "code",
   "execution_count": 74,
   "id": "ce403857",
   "metadata": {},
   "outputs": [],
   "source": [
    "std1 = StandardScaler()\n",
    "x_train_std = std1.fit_transform(x_train)\n",
    "x_test_std = std1.fit_transform(x_test)"
   ]
  },
  {
   "cell_type": "code",
   "execution_count": null,
   "id": "94ebb3ba",
   "metadata": {},
   "outputs": [],
   "source": []
  },
  {
   "cell_type": "code",
   "execution_count": 130,
   "id": "d01b631e",
   "metadata": {},
   "outputs": [
    {
     "name": "stdout",
     "output_type": "stream",
     "text": [
      "Epoch 1/70\n",
      "151/151 [==============================] - 1s 1ms/step - loss: 18178.9844\n",
      "Epoch 2/70\n",
      "151/151 [==============================] - 0s 1ms/step - loss: 17494.9355\n",
      "Epoch 3/70\n",
      "151/151 [==============================] - 0s 1ms/step - loss: 15141.8125A: 0s - loss: 15943.36\n",
      "Epoch 4/70\n",
      "151/151 [==============================] - ETA: 0s - loss: 11705.759 - 0s 1ms/step - loss: 11195.0205\n",
      "Epoch 5/70\n",
      "151/151 [==============================] - 0s 1ms/step - loss: 7417.2275\n",
      "Epoch 6/70\n",
      "151/151 [==============================] - 0s 1ms/step - loss: 5144.7832\n",
      "Epoch 7/70\n",
      "151/151 [==============================] - 0s 1ms/step - loss: 3880.5571\n",
      "Epoch 8/70\n",
      "151/151 [==============================] - 0s 1ms/step - loss: 3009.7095\n",
      "Epoch 9/70\n",
      "151/151 [==============================] - 0s 2ms/step - loss: 2360.7588\n",
      "Epoch 10/70\n",
      "151/151 [==============================] - 0s 2ms/step - loss: 1853.9762\n",
      "Epoch 11/70\n",
      "151/151 [==============================] - 0s 2ms/step - loss: 1445.8795\n",
      "Epoch 12/70\n",
      "151/151 [==============================] - 0s 1ms/step - loss: 1122.3557\n",
      "Epoch 13/70\n",
      "151/151 [==============================] - 0s 1ms/step - loss: 870.6349\n",
      "Epoch 14/70\n",
      "151/151 [==============================] - 0s 2ms/step - loss: 680.4029\n",
      "Epoch 15/70\n",
      "151/151 [==============================] - 0s 2ms/step - loss: 542.3906\n",
      "Epoch 16/70\n",
      "151/151 [==============================] - 0s 1ms/step - loss: 443.0431\n",
      "Epoch 17/70\n",
      "151/151 [==============================] - 0s 1ms/step - loss: 369.5937\n",
      "Epoch 18/70\n",
      "151/151 [==============================] - 0s 1ms/step - loss: 312.1402\n",
      "Epoch 19/70\n",
      "151/151 [==============================] - 0s 1ms/step - loss: 265.3477\n",
      "Epoch 20/70\n",
      "151/151 [==============================] - 0s 1ms/step - loss: 226.4858\n",
      "Epoch 21/70\n",
      "151/151 [==============================] - 0s 2ms/step - loss: 194.1347\n",
      "Epoch 22/70\n",
      "151/151 [==============================] - 0s 1ms/step - loss: 167.4078\n",
      "Epoch 23/70\n",
      "151/151 [==============================] - 0s 1ms/step - loss: 145.5888\n",
      "Epoch 24/70\n",
      "151/151 [==============================] - 0s 1ms/step - loss: 127.6469A: 0s - loss: 127.28\n",
      "Epoch 25/70\n",
      "151/151 [==============================] - 0s 1ms/step - loss: 112.7396\n",
      "Epoch 26/70\n",
      "151/151 [==============================] - 0s 1ms/step - loss: 100.0830\n",
      "Epoch 27/70\n",
      "151/151 [==============================] - 0s 1ms/step - loss: 89.5802\n",
      "Epoch 28/70\n",
      "151/151 [==============================] - 0s 1ms/step - loss: 81.0402\n",
      "Epoch 29/70\n",
      "151/151 [==============================] - 0s 1ms/step - loss: 73.8595\n",
      "Epoch 30/70\n",
      "151/151 [==============================] - 0s 1ms/step - loss: 67.8234\n",
      "Epoch 31/70\n",
      "151/151 [==============================] - 0s 1ms/step - loss: 62.6843\n",
      "Epoch 32/70\n",
      "151/151 [==============================] - 0s 2ms/step - loss: 58.2448\n",
      "Epoch 33/70\n",
      "151/151 [==============================] - 0s 2ms/step - loss: 54.3140\n",
      "Epoch 34/70\n",
      "151/151 [==============================] - 0s 1ms/step - loss: 50.5717\n",
      "Epoch 35/70\n",
      "151/151 [==============================] - 0s 1ms/step - loss: 46.9916\n",
      "Epoch 36/70\n",
      "151/151 [==============================] - 0s 1ms/step - loss: 43.7154\n",
      "Epoch 37/70\n",
      "151/151 [==============================] - 0s 1ms/step - loss: 40.6520\n",
      "Epoch 38/70\n",
      "151/151 [==============================] - 0s 2ms/step - loss: 37.8243\n",
      "Epoch 39/70\n",
      "151/151 [==============================] - 0s 1ms/step - loss: 35.1388\n",
      "Epoch 40/70\n",
      "151/151 [==============================] - ETA: 0s - loss: 33.02 - 0s 1ms/step - loss: 32.6269\n",
      "Epoch 41/70\n",
      "151/151 [==============================] - 0s 2ms/step - loss: 30.1202\n",
      "Epoch 42/70\n",
      "151/151 [==============================] - 0s 2ms/step - loss: 27.6807\n",
      "Epoch 43/70\n",
      "151/151 [==============================] - 0s 2ms/step - loss: 25.3043\n",
      "Epoch 44/70\n",
      "151/151 [==============================] - 0s 2ms/step - loss: 23.1354\n",
      "Epoch 45/70\n",
      "151/151 [==============================] - 0s 2ms/step - loss: 21.0889\n",
      "Epoch 46/70\n",
      "151/151 [==============================] - 0s 2ms/step - loss: 19.2586\n",
      "Epoch 47/70\n",
      "151/151 [==============================] - 0s 2ms/step - loss: 17.3846\n",
      "Epoch 48/70\n",
      "151/151 [==============================] - 0s 2ms/step - loss: 15.6783\n",
      "Epoch 49/70\n",
      "151/151 [==============================] - 0s 2ms/step - loss: 14.0485\n",
      "Epoch 50/70\n",
      "151/151 [==============================] - 0s 1ms/step - loss: 12.6640\n",
      "Epoch 51/70\n",
      "151/151 [==============================] - 0s 1ms/step - loss: 11.4642\n",
      "Epoch 52/70\n",
      "151/151 [==============================] - 0s 1ms/step - loss: 10.4812\n",
      "Epoch 53/70\n",
      "151/151 [==============================] - 0s 2ms/step - loss: 9.6118\n",
      "Epoch 54/70\n",
      "151/151 [==============================] - 0s 1ms/step - loss: 8.8665\n",
      "Epoch 55/70\n",
      "151/151 [==============================] - 0s 1ms/step - loss: 8.2173\n",
      "Epoch 56/70\n",
      "151/151 [==============================] - 0s 1ms/step - loss: 7.6237\n",
      "Epoch 57/70\n",
      "151/151 [==============================] - 0s 1ms/step - loss: 7.0550\n",
      "Epoch 58/70\n",
      "151/151 [==============================] - 0s 1ms/step - loss: 6.5190\n",
      "Epoch 59/70\n",
      "151/151 [==============================] - 0s 1ms/step - loss: 6.0107\n",
      "Epoch 60/70\n",
      "151/151 [==============================] - 0s 2ms/step - loss: 5.5196\n",
      "Epoch 61/70\n",
      "151/151 [==============================] - 0s 1ms/step - loss: 5.0531A: 0s - loss: 4.956\n",
      "Epoch 62/70\n",
      "151/151 [==============================] - 0s 2ms/step - loss: 4.6370\n",
      "Epoch 63/70\n",
      "151/151 [==============================] - 0s 1ms/step - loss: 4.2563\n",
      "Epoch 64/70\n",
      "151/151 [==============================] - 0s 1ms/step - loss: 3.8979\n",
      "Epoch 65/70\n",
      "151/151 [==============================] - 0s 2ms/step - loss: 3.5741\n",
      "Epoch 66/70\n",
      "151/151 [==============================] - 0s 1ms/step - loss: 3.2531\n",
      "Epoch 67/70\n",
      "151/151 [==============================] - 0s 1ms/step - loss: 2.9862\n",
      "Epoch 68/70\n",
      "151/151 [==============================] - 0s 1ms/step - loss: 2.7448\n",
      "Epoch 69/70\n",
      "151/151 [==============================] - 0s 1ms/step - loss: 2.5148\n",
      "Epoch 70/70\n",
      "151/151 [==============================] - 0s 2ms/step - loss: 2.3175\n"
     ]
    },
    {
     "data": {
      "text/plain": [
       "<keras.callbacks.History at 0x25b651e04f0>"
      ]
     },
     "execution_count": 130,
     "metadata": {},
     "output_type": "execute_result"
    }
   ],
   "source": [
    "from tensorflow.keras.optimizers import Adam\n",
    "\n",
    "model = Sequential()\n",
    "model.add(Dense(5,input_dim = 10, kernel_initializer = 'uniform', activation = 'relu'))\n",
    "model.add(Dense(3,kernel_initializer = 'uniform', activation = 'relu'))\n",
    "model.add(Dense(1,kernel_initializer = 'uniform', activation = 'relu'))\n",
    "\n",
    "adam = Adam(lr = 0.001)    \n",
    "model.compile(optimizer='adam',loss='mse')\n",
    "model.fit(x_train_std,y_train, epochs = 70, batch_size = 80)\n"
   ]
  },
  {
   "cell_type": "code",
   "execution_count": 131,
   "id": "8c3909ea",
   "metadata": {},
   "outputs": [
    {
     "name": "stdout",
     "output_type": "stream",
     "text": [
      "94/94 [==============================] - 0s 1ms/step - loss: 2.5154\n"
     ]
    }
   ],
   "source": [
    "score = model.evaluate(x_test_std,y_test)"
   ]
  },
  {
   "cell_type": "code",
   "execution_count": 132,
   "id": "3cb9a098",
   "metadata": {},
   "outputs": [
    {
     "name": "stdout",
     "output_type": "stream",
     "text": [
      "Score : 2.52\n"
     ]
    }
   ],
   "source": [
    "print(\"Score : %.2f\" % score)"
   ]
  },
  {
   "cell_type": "code",
   "execution_count": null,
   "id": "2cf6032a",
   "metadata": {},
   "outputs": [],
   "source": []
  }
 ],
 "metadata": {
  "kernelspec": {
   "display_name": "Python 3",
   "language": "python",
   "name": "python3"
  },
  "language_info": {
   "codemirror_mode": {
    "name": "ipython",
    "version": 3
   },
   "file_extension": ".py",
   "mimetype": "text/x-python",
   "name": "python",
   "nbconvert_exporter": "python",
   "pygments_lexer": "ipython3",
   "version": "3.8.8"
  },
  "toc": {
   "base_numbering": 1,
   "nav_menu": {},
   "number_sections": true,
   "sideBar": true,
   "skip_h1_title": false,
   "title_cell": "Table of Contents",
   "title_sidebar": "Contents",
   "toc_cell": false,
   "toc_position": {},
   "toc_section_display": true,
   "toc_window_display": false
  }
 },
 "nbformat": 4,
 "nbformat_minor": 5
}
